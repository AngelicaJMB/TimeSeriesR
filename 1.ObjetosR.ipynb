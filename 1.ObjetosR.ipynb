{
 "cells": [
  {
   "cell_type": "code",
   "execution_count": 1,
   "metadata": {},
   "outputs": [
    {
     "data": {
      "text/plain": [
       "R version 3.5.3 (2019-03-11)\n",
       "Platform: x86_64-w64-mingw32/x64 (64-bit)\n",
       "Running under: Windows 8.1 x64 (build 9600)\n",
       "\n",
       "Matrix products: default\n",
       "\n",
       "locale:\n",
       "[1] LC_COLLATE=Spanish_Peru.1252  LC_CTYPE=Spanish_Peru.1252   \n",
       "[3] LC_MONETARY=Spanish_Peru.1252 LC_NUMERIC=C                 \n",
       "[5] LC_TIME=Spanish_Peru.1252    \n",
       "\n",
       "attached base packages:\n",
       "[1] stats     graphics  grDevices utils     datasets  methods   base     \n",
       "\n",
       "other attached packages:\n",
       "[1] RevoUtils_11.0.3     RevoUtilsMath_11.0.0\n",
       "\n",
       "loaded via a namespace (and not attached):\n",
       " [1] compiler_3.5.3  IRdisplay_0.7.0 pbdZMQ_0.3-3    tools_3.5.3    \n",
       " [5] htmltools_0.3.6 base64enc_0.1-3 crayon_1.3.4    Rcpp_1.0.0     \n",
       " [9] uuid_0.1-2      IRkernel_0.8.15 jsonlite_1.5    digest_0.6.18  \n",
       "[13] repr_0.19.2     evaluate_0.12  "
      ]
     },
     "metadata": {},
     "output_type": "display_data"
    }
   ],
   "source": [
    "sessionInfo()"
   ]
  },
  {
   "cell_type": "markdown",
   "metadata": {},
   "source": [
    "# Fundamentos de programación en R\n",
    "1. Lenguaje de programación orientado a objetos\n",
    "2. Objetos en R\n",
    "3. Indexando y algunos comandos básicos\n",
    "4. Operaciones\n",
    "\n",
    "## 1. Lenguaje de programación orientado a objetos\n",
    "### Lenguaje de Programación Orientado a Objetos (OOP) o Programación Funcional (FP)\n",
    "OOP y FP son diferentes paradigmas para alcanzar un objetivo a través de la programación.\n",
    "\n",
    "> OOP: Un paradigma de programación basado en el concepto de \"objetos\", que son estructuras que contienen datos en forma de campos, a menudo conocidos como atributos; y código, en forma de procedimientos, a menudo conocidos como métodos.\n",
    "[wikipedia](https://en.wikipedia.org/wiki/Object-oriented_programming)\n",
    "\n",
    "> FP: Un paradigma de programación, un estilo de construcción de estructuras y elementos del código, que trata al programa como evaluación de funciones matemáticas, evitando así, el cambio de estados y datos mutables.\n",
    "[wikipedia](https://en.wikipedia.org/wiki/Functional_programming)\n",
    "\n",
    "En cualquier programa hay dos componentes principales: *datos* y *comportamientos*. OOP reúne a los datos y sus comportamientos asociados en una única ubicación (llamada \"objeto\"). En cambio, FP mantiene los datos y sus comportamientos por separado.\n",
    "\n",
    "Interesante artículo comparando OOP y FP [here](https://www.tutorialspoint.com/functional_programming/functional_programming_introduction.htm)\n",
    "\n",
    "### Ejemplos\n",
    "* OOP: lenguajes más populare como Python, R, Matlab, Julia, Fortran, Ruby, ...\n",
    "\n",
    "* FP: Mathematica, Ruby,...\n",
    "\n",
    "## 2. Objectos en R: Tipos de datos\n",
    "\n",
    "Cuando programas en cualquier lenguaje necesitas usar diferentes variables para almacenar diferentes datos. Además, las variables se reservan en una ubicación de memoria, esto implica que, una vez que se crea una variable, se reserva un área en la memoria. Estos objetos son:\n",
    "\n",
    "<table>\n",
    "<thead>\n",
    "<tr>\n",
    "<th>Objeto</th>\n",
    "<th>Descripción</th>\n",
    "<th>Función que verifica</th>    \n",
    "</tr>\n",
    "</thead>\n",
    "<tbody>\n",
    "<tr>\n",
    "<td>integer</td>\n",
    "<td>valores enteros</td>\n",
    "<td><code>is.integer()</code></td>    \n",
    "</tr>\n",
    "<tr>\n",
    "<td>numeric</td>\n",
    "<td>valores flotantes</td>\n",
    "<td><code>is.numeric()</code></td>    \n",
    "</tr>\n",
    "<tr>\n",
    "<td>character</td>\n",
    "<td>cadenas de texto</td>\n",
    "<td><code>is.character()</code></td>\n",
    "</tr>\n",
    "<tr>\n",
    "<td>logical</td>\n",
    "<td>valores booleanos</td>\n",
    "<td><code>is.logical()</code></td>\n",
    "</tbody>\n",
    "</table>\n",
    "\n",
    "Los objetos se pueden identificar con el comando *class()* o *mode()*\n",
    "\n",
    "**Nota**: *las variables no tienen que declararse antes de ser usadas. Cuando asignas tiene una declaración automática*\n",
    "\n",
    "### 2.1. Logical\n",
    "Una declaración lógica verdadera/falsa"
   ]
  },
  {
   "cell_type": "code",
   "execution_count": 8,
   "metadata": {},
   "outputs": [
    {
     "name": "stdout",
     "output_type": "stream",
     "text": [
      "[1] TRUE\n",
      "[1] FALSE\n",
      "[1] TRUE\n",
      "[1] TRUE\n",
      "[1] FALSE\n"
     ]
    }
   ],
   "source": [
    "a <- TRUE\n",
    "b <- FALSE\n",
    "\n",
    "print(a)\n",
    "print(b)"
   ]
  },
  {
   "cell_type": "markdown",
   "metadata": {},
   "source": [
    "R puede indetificar el tipo de variable"
   ]
  },
  {
   "cell_type": "code",
   "execution_count": 4,
   "metadata": {},
   "outputs": [
    {
     "name": "stdout",
     "output_type": "stream",
     "text": [
      "[1] \"logical\"\n",
      "[1] \"logical\"\n",
      "[1] \"logical\"\n",
      "[1] \"logical\"\n"
     ]
    },
    {
     "data": {
      "text/html": [
       "'logical'"
      ],
      "text/latex": [
       "'logical'"
      ],
      "text/markdown": [
       "'logical'"
      ],
      "text/plain": [
       "[1] \"logical\""
      ]
     },
     "metadata": {},
     "output_type": "display_data"
    },
    {
     "data": {
      "text/html": [
       "'logical'"
      ],
      "text/latex": [
       "'logical'"
      ],
      "text/markdown": [
       "'logical'"
      ],
      "text/plain": [
       "[1] \"logical\""
      ]
     },
     "metadata": {},
     "output_type": "display_data"
    }
   ],
   "source": [
    "print(class(a))\n",
    "print(class(b))"
   ]
  },
  {
   "cell_type": "code",
   "execution_count": 26,
   "metadata": {},
   "outputs": [
    {
     "data": {
      "text/html": [
       "'character'"
      ],
      "text/latex": [
       "'character'"
      ],
      "text/markdown": [
       "'character'"
      ],
      "text/plain": [
       "[1] \"character\""
      ]
     },
     "metadata": {},
     "output_type": "display_data"
    },
    {
     "data": {
      "text/html": [
       "'character'"
      ],
      "text/latex": [
       "'character'"
      ],
      "text/markdown": [
       "'character'"
      ],
      "text/plain": [
       "[1] \"character\""
      ]
     },
     "metadata": {},
     "output_type": "display_data"
    }
   ],
   "source": [
    "mode(a)\n",
    "class(a)"
   ]
  },
  {
   "cell_type": "markdown",
   "metadata": {},
   "source": [
    "### 2.2. Integer y numeric\n",
    "Los números pueden ser enteros (sin decimales) o flotantes (decimales de doble precisión)."
   ]
  },
  {
   "cell_type": "code",
   "execution_count": 34,
   "metadata": {},
   "outputs": [
    {
     "name": "stdout",
     "output_type": "stream",
     "text": [
      "[1] 4\n",
      "[1] 4\n",
      "[1] 4.5\n"
     ]
    }
   ],
   "source": [
    "c <- 4L #se usa el sufijo L\n",
    "d <- 4\n",
    "e <- 4.5\n",
    "print(c)\n",
    "print(d)\n",
    "print(e)"
   ]
  },
  {
   "cell_type": "code",
   "execution_count": 35,
   "metadata": {},
   "outputs": [
    {
     "data": {
      "text/html": [
       "'integer'"
      ],
      "text/latex": [
       "'integer'"
      ],
      "text/markdown": [
       "'integer'"
      ],
      "text/plain": [
       "[1] \"integer\""
      ]
     },
     "metadata": {},
     "output_type": "display_data"
    },
    {
     "data": {
      "text/html": [
       "'numeric'"
      ],
      "text/latex": [
       "'numeric'"
      ],
      "text/markdown": [
       "'numeric'"
      ],
      "text/plain": [
       "[1] \"numeric\""
      ]
     },
     "metadata": {},
     "output_type": "display_data"
    }
   ],
   "source": [
    "class(c)\n",
    "class(d)"
   ]
  },
  {
   "cell_type": "code",
   "execution_count": 36,
   "metadata": {},
   "outputs": [
    {
     "data": {
      "text/html": [
       "FALSE"
      ],
      "text/latex": [
       "FALSE"
      ],
      "text/markdown": [
       "FALSE"
      ],
      "text/plain": [
       "[1] FALSE"
      ]
     },
     "metadata": {},
     "output_type": "display_data"
    },
    {
     "data": {
      "text/html": [
       "TRUE"
      ],
      "text/latex": [
       "TRUE"
      ],
      "text/markdown": [
       "TRUE"
      ],
      "text/plain": [
       "[1] TRUE"
      ]
     },
     "metadata": {},
     "output_type": "display_data"
    },
    {
     "data": {
      "text/html": [
       "TRUE"
      ],
      "text/latex": [
       "TRUE"
      ],
      "text/markdown": [
       "TRUE"
      ],
      "text/plain": [
       "[1] TRUE"
      ]
     },
     "metadata": {},
     "output_type": "display_data"
    }
   ],
   "source": [
    "is.logical(c)\n",
    "is.integer(c)\n",
    "is.numeric(c)"
   ]
  },
  {
   "cell_type": "code",
   "execution_count": 37,
   "metadata": {},
   "outputs": [
    {
     "data": {
      "text/html": [
       "FALSE"
      ],
      "text/latex": [
       "FALSE"
      ],
      "text/markdown": [
       "FALSE"
      ],
      "text/plain": [
       "[1] FALSE"
      ]
     },
     "metadata": {},
     "output_type": "display_data"
    },
    {
     "data": {
      "text/html": [
       "FALSE"
      ],
      "text/latex": [
       "FALSE"
      ],
      "text/markdown": [
       "FALSE"
      ],
      "text/plain": [
       "[1] FALSE"
      ]
     },
     "metadata": {},
     "output_type": "display_data"
    },
    {
     "data": {
      "text/html": [
       "TRUE"
      ],
      "text/latex": [
       "TRUE"
      ],
      "text/markdown": [
       "TRUE"
      ],
      "text/plain": [
       "[1] TRUE"
      ]
     },
     "metadata": {},
     "output_type": "display_data"
    }
   ],
   "source": [
    "is.logical(d)\n",
    "is.integer(d)\n",
    "is.numeric(d)"
   ]
  },
  {
   "cell_type": "code",
   "execution_count": 32,
   "metadata": {},
   "outputs": [
    {
     "data": {
      "text/html": [
       "TRUE"
      ],
      "text/latex": [
       "TRUE"
      ],
      "text/markdown": [
       "TRUE"
      ],
      "text/plain": [
       "[1] TRUE"
      ]
     },
     "metadata": {},
     "output_type": "display_data"
    }
   ],
   "source": [
    "c==d"
   ]
  },
  {
   "cell_type": "code",
   "execution_count": 33,
   "metadata": {},
   "outputs": [
    {
     "data": {
      "text/html": [
       "'integer'"
      ],
      "text/latex": [
       "'integer'"
      ],
      "text/markdown": [
       "'integer'"
      ],
      "text/plain": [
       "[1] \"integer\""
      ]
     },
     "metadata": {},
     "output_type": "display_data"
    },
    {
     "data": {
      "text/html": [
       "'numeric'"
      ],
      "text/latex": [
       "'numeric'"
      ],
      "text/markdown": [
       "'numeric'"
      ],
      "text/plain": [
       "[1] \"numeric\""
      ]
     },
     "metadata": {},
     "output_type": "display_data"
    },
    {
     "data": {
      "text/html": [
       "FALSE"
      ],
      "text/latex": [
       "FALSE"
      ],
      "text/markdown": [
       "FALSE"
      ],
      "text/plain": [
       "[1] FALSE"
      ]
     },
     "metadata": {},
     "output_type": "display_data"
    }
   ],
   "source": [
    "class(c)\n",
    "class(d)\n",
    "class(c)==class(d)"
   ]
  },
  {
   "cell_type": "markdown",
   "metadata": {},
   "source": [
    "### 2.3. Character\n",
    "Un Character es una cadena de texto"
   ]
  },
  {
   "cell_type": "code",
   "execution_count": 43,
   "metadata": {
    "scrolled": true
   },
   "outputs": [
    {
     "name": "stdout",
     "output_type": "stream",
     "text": [
      "[1] \"R-proyect\"\n",
      "[1] \"R-proyect\"\n",
      "[1] \"4\"\n",
      "[1] 4\n",
      "[1] \"hola mundo\"\n",
      "[1] \"a\"\n"
     ]
    }
   ],
   "source": [
    "a <- 'R-proyect'\n",
    "b <- \"R-proyect\"\n",
    "c <- \"4\"\n",
    "d <- 4\n",
    "\n",
    "print(a)\n",
    "print(b)\n",
    "print(c)\n",
    "print(d)\n",
    "print(\"hola mundo\")\n",
    "print(\"a\")"
   ]
  },
  {
   "cell_type": "code",
   "execution_count": 39,
   "metadata": {},
   "outputs": [
    {
     "name": "stdout",
     "output_type": "stream",
     "text": [
      "[1] \"a\"\n",
      "[1] \"R-proyect\"\n"
     ]
    }
   ],
   "source": [
    "f <- \"a\"\n",
    "g <- a\n",
    "\n",
    "print(f)\n",
    "print(g)"
   ]
  },
  {
   "cell_type": "code",
   "execution_count": 44,
   "metadata": {},
   "outputs": [
    {
     "name": "stdout",
     "output_type": "stream",
     "text": [
      "[1] \"character\"\n",
      "[1] \"character\"\n",
      "[1] \"character\"\n",
      "[1] \"numeric\"\n",
      "[1] \"character\"\n",
      "[1] \"character\"\n"
     ]
    }
   ],
   "source": [
    "print(class(a))\n",
    "print(class(b))\n",
    "print(class(c))\n",
    "print(class(d))\n",
    "print(class(f))\n",
    "print(class(g))"
   ]
  },
  {
   "cell_type": "code",
   "execution_count": 47,
   "metadata": {},
   "outputs": [
    {
     "data": {
      "text/html": [
       "TRUE"
      ],
      "text/latex": [
       "TRUE"
      ],
      "text/markdown": [
       "TRUE"
      ],
      "text/plain": [
       "[1] TRUE"
      ]
     },
     "metadata": {},
     "output_type": "display_data"
    },
    {
     "data": {
      "text/html": [
       "TRUE"
      ],
      "text/latex": [
       "TRUE"
      ],
      "text/markdown": [
       "TRUE"
      ],
      "text/plain": [
       "[1] TRUE"
      ]
     },
     "metadata": {},
     "output_type": "display_data"
    },
    {
     "data": {
      "text/html": [
       "TRUE"
      ],
      "text/latex": [
       "TRUE"
      ],
      "text/markdown": [
       "TRUE"
      ],
      "text/plain": [
       "[1] TRUE"
      ]
     },
     "metadata": {},
     "output_type": "display_data"
    }
   ],
   "source": [
    "a==b \n",
    "class(a)==class(b)"
   ]
  },
  {
   "cell_type": "code",
   "execution_count": 48,
   "metadata": {},
   "outputs": [
    {
     "data": {
      "text/html": [
       "TRUE"
      ],
      "text/latex": [
       "TRUE"
      ],
      "text/markdown": [
       "TRUE"
      ],
      "text/plain": [
       "[1] TRUE"
      ]
     },
     "metadata": {},
     "output_type": "display_data"
    },
    {
     "data": {
      "text/html": [
       "TRUE"
      ],
      "text/latex": [
       "TRUE"
      ],
      "text/markdown": [
       "TRUE"
      ],
      "text/plain": [
       "[1] TRUE"
      ]
     },
     "metadata": {},
     "output_type": "display_data"
    },
    {
     "data": {
      "text/html": [
       "FALSE"
      ],
      "text/latex": [
       "FALSE"
      ],
      "text/markdown": [
       "FALSE"
      ],
      "text/plain": [
       "[1] FALSE"
      ]
     },
     "metadata": {},
     "output_type": "display_data"
    }
   ],
   "source": [
    "\"4\"== 4\n",
    "c==d\n",
    "class(c)==class(d)"
   ]
  },
  {
   "cell_type": "code",
   "execution_count": 59,
   "metadata": {},
   "outputs": [
    {
     "name": "stdout",
     "output_type": "stream",
     "text": [
      "[1] \"manzana,platano,uva\"\n"
     ]
    }
   ],
   "source": [
    "a <- \"manzana\"\n",
    "b <- \"platano\"\n",
    "c <- \"uva\"\n",
    "#meta: \"manzana,platano,uva\"\n",
    "d <- paste(a,b,c, sep=\",\")\n",
    "print(d)"
   ]
  },
  {
   "cell_type": "code",
   "execution_count": 60,
   "metadata": {},
   "outputs": [
    {
     "data": {
      "text/html": [
       "'hola mundo'"
      ],
      "text/latex": [
       "'hola mundo'"
      ],
      "text/markdown": [
       "'hola mundo'"
      ],
      "text/plain": [
       "[1] \"hola mundo\""
      ]
     },
     "metadata": {},
     "output_type": "display_data"
    },
    {
     "data": {
      "text/html": [
       "'hola mundo'"
      ],
      "text/latex": [
       "'hola mundo'"
      ],
      "text/markdown": [
       "'hola mundo'"
      ],
      "text/plain": [
       "[1] \"hola mundo\""
      ]
     },
     "metadata": {},
     "output_type": "display_data"
    }
   ],
   "source": [
    "e <- \"hola\"\n",
    "f <- \"mundo\"\n",
    "#meta: \"hola mundo\"\n",
    "\n",
    "paste(e,f)\n",
    "paste(e,f,sep=\" \")"
   ]
  },
  {
   "cell_type": "markdown",
   "metadata": {},
   "source": [
    "## 3. Objectos en R: Estructuras de datos\n",
    "\n",
    "También existen objetos que son estructuras de datos, en la cual una variable puede almacenar más de un dato.\n",
    "\n",
    "<table>\n",
    "<thead>\n",
    "<tr>\n",
    "<th>Dimensiones</th>\n",
    "<th>Homogeneas</th>\n",
    "<th>Heterogeneas</th>\n",
    "</tr>\n",
    "</thead>\n",
    "<tbody>\n",
    "<tr>\n",
    "<td>1</td>\n",
    "<td>Vector</td>\n",
    "<td>Lista</td>\n",
    "</tr>\n",
    "<tr>\n",
    "<td>2</td>\n",
    "<td>Matriz</td>\n",
    "<td>Data frame</td>\n",
    "</tbody>\n",
    "</table>"
   ]
  },
  {
   "cell_type": "markdown",
   "metadata": {},
   "source": [
    "### 3.1 Vectores\n",
    "\n",
    "Un vector es la estructura de datos más sencilla en R. Un vector es una colección de uno o más datos del mismo tipo.\n",
    "\n",
    "**Tipo**: Un vector tiene el mismo tipo que los datos que contiene. Si tenemos un vector que contiene datos de tipo numérico, el vector será también de tipo numérico. Los vectores son atómicos, pues sólo pueden contener datos de un sólo tipo, no es posible mezclar datos de tipos diferentes dentro de ellos.\n",
    "\n",
    "**Largo**: Es el número de elementos que contiene un vector. El largo es la única dimensión que tiene esta estructura de datos."
   ]
  },
  {
   "cell_type": "code",
   "execution_count": 79,
   "metadata": {},
   "outputs": [],
   "source": [
    "a <- c(FALSE, FALSE,TRUE)\n",
    "b <- c(1,2,3,4)\n",
    "c <- c(\"hola\",\"como\",\"estas\")"
   ]
  },
  {
   "cell_type": "code",
   "execution_count": 80,
   "metadata": {},
   "outputs": [
    {
     "data": {
      "text/html": [
       "'logical'"
      ],
      "text/latex": [
       "'logical'"
      ],
      "text/markdown": [
       "'logical'"
      ],
      "text/plain": [
       "[1] \"logical\""
      ]
     },
     "metadata": {},
     "output_type": "display_data"
    },
    {
     "data": {
      "text/html": [
       "'numeric'"
      ],
      "text/latex": [
       "'numeric'"
      ],
      "text/markdown": [
       "'numeric'"
      ],
      "text/plain": [
       "[1] \"numeric\""
      ]
     },
     "metadata": {},
     "output_type": "display_data"
    },
    {
     "data": {
      "text/html": [
       "'character'"
      ],
      "text/latex": [
       "'character'"
      ],
      "text/markdown": [
       "'character'"
      ],
      "text/plain": [
       "[1] \"character\""
      ]
     },
     "metadata": {},
     "output_type": "display_data"
    }
   ],
   "source": [
    "class(a)\n",
    "class(b)\n",
    "class(c)"
   ]
  },
  {
   "cell_type": "code",
   "execution_count": 100,
   "metadata": {},
   "outputs": [
    {
     "data": {
      "text/html": [
       "3"
      ],
      "text/latex": [
       "3"
      ],
      "text/markdown": [
       "3"
      ],
      "text/plain": [
       "[1] 3"
      ]
     },
     "metadata": {},
     "output_type": "display_data"
    },
    {
     "data": {
      "text/html": [
       "4"
      ],
      "text/latex": [
       "4"
      ],
      "text/markdown": [
       "4"
      ],
      "text/plain": [
       "[1] 4"
      ]
     },
     "metadata": {},
     "output_type": "display_data"
    },
    {
     "data": {
      "text/html": [
       "3"
      ],
      "text/latex": [
       "3"
      ],
      "text/markdown": [
       "3"
      ],
      "text/plain": [
       "[1] 3"
      ]
     },
     "metadata": {},
     "output_type": "display_data"
    }
   ],
   "source": [
    "length(a)\n",
    "length(b)\n",
    "length(c)"
   ]
  },
  {
   "cell_type": "markdown",
   "metadata": {},
   "source": [
    "En caso de escribir valores de diferentes tipos se homogeniza con la clase más flexible. El orden de flexibilidad es: character, numeric y logical."
   ]
  },
  {
   "cell_type": "code",
   "execution_count": 65,
   "metadata": {},
   "outputs": [
    {
     "name": "stdout",
     "output_type": "stream",
     "text": [
      "[1] 1 2 1 0 1 5\n",
      "[1] \"1\"    \"2\"    \"TRUE\" \"hola\"\n"
     ]
    }
   ],
   "source": [
    "d <- c(1,2,TRUE,FALSE,TRUE,5) #TRUE: 1 , FALSE: 0\n",
    "e <- c(1,2,TRUE,\"hola\")\n",
    "print(d)\n",
    "print(e)"
   ]
  },
  {
   "cell_type": "code",
   "execution_count": 66,
   "metadata": {},
   "outputs": [
    {
     "data": {
      "text/html": [
       "'numeric'"
      ],
      "text/latex": [
       "'numeric'"
      ],
      "text/markdown": [
       "'numeric'"
      ],
      "text/plain": [
       "[1] \"numeric\""
      ]
     },
     "metadata": {},
     "output_type": "display_data"
    },
    {
     "data": {
      "text/html": [
       "'character'"
      ],
      "text/latex": [
       "'character'"
      ],
      "text/markdown": [
       "'character'"
      ],
      "text/plain": [
       "[1] \"character\""
      ]
     },
     "metadata": {},
     "output_type": "display_data"
    }
   ],
   "source": [
    "class(d)\n",
    "class(e)"
   ]
  },
  {
   "cell_type": "markdown",
   "metadata": {},
   "source": [
    "También se puede unir vectores con <code>c()</code>"
   ]
  },
  {
   "cell_type": "code",
   "execution_count": 67,
   "metadata": {},
   "outputs": [
    {
     "name": "stdout",
     "output_type": "stream",
     "text": [
      " [1] \"1\"    \"2\"    \"1\"    \"0\"    \"1\"    \"5\"    \"1\"    \"2\"    \"TRUE\" \"hola\"\n"
     ]
    }
   ],
   "source": [
    "f <- c(d,e)\n",
    "print(f)"
   ]
  },
  {
   "cell_type": "code",
   "execution_count": 69,
   "metadata": {},
   "outputs": [
    {
     "name": "stdout",
     "output_type": "stream",
     "text": [
      " [1]  1  2  3  4  5  6  7  8  9 10\n",
      " [1] 10  9  8  7  6  5  4  3  2  1\n"
     ]
    }
   ],
   "source": [
    "g <- 1:10\n",
    "h <- 10:1\n",
    "\n",
    "print(g)\n",
    "print(h)"
   ]
  },
  {
   "cell_type": "code",
   "execution_count": 70,
   "metadata": {},
   "outputs": [
    {
     "data": {
      "text/html": [
       "2"
      ],
      "text/latex": [
       "2"
      ],
      "text/markdown": [
       "2"
      ],
      "text/plain": [
       "[1] 2"
      ]
     },
     "metadata": {},
     "output_type": "display_data"
    },
    {
     "data": {
      "text/html": [
       "9"
      ],
      "text/latex": [
       "9"
      ],
      "text/markdown": [
       "9"
      ],
      "text/plain": [
       "[1] 9"
      ]
     },
     "metadata": {},
     "output_type": "display_data"
    }
   ],
   "source": [
    "g[2]\n",
    "h[2]"
   ]
  },
  {
   "cell_type": "code",
   "execution_count": 71,
   "metadata": {},
   "outputs": [
    {
     "name": "stdout",
     "output_type": "stream",
     "text": [
      "[1] 4.0 4.5 5.0 5.5 6.0\n"
     ]
    }
   ],
   "source": [
    "i <- seq(4,6,0.5)\n",
    "\n",
    "print(i)"
   ]
  },
  {
   "cell_type": "code",
   "execution_count": 88,
   "metadata": {},
   "outputs": [
    {
     "name": "stdout",
     "output_type": "stream",
     "text": [
      "[1] 4.5\n",
      "[1] 4.0 5.0 5.5 6.0\n",
      "[1] 4.5 5.0 5.5\n",
      "[1] 4.0 5.5\n"
     ]
    }
   ],
   "source": [
    "#segundo elemento\n",
    "print(i[2])\n",
    "\n",
    "#todo el vector excepto el segundo elemento\n",
    "print(i[-2])\n",
    "\n",
    "#del segundo al cuarto elemeto\n",
    "print(i[2:4])\n",
    "\n",
    "#el elemento 1 y 4\n",
    "print(i[c(1,4)])"
   ]
  },
  {
   "cell_type": "code",
   "execution_count": 95,
   "metadata": {},
   "outputs": [
    {
     "name": "stdout",
     "output_type": "stream",
     "text": [
      "[1]   4.0 517.0   5.0   5.5   6.0\n"
     ]
    }
   ],
   "source": [
    "i[2] <- 517\n",
    "print(i)"
   ]
  },
  {
   "cell_type": "code",
   "execution_count": null,
   "metadata": {},
   "outputs": [],
   "source": [
    "j <- 1:5\n",
    "h <- 1:5"
   ]
  },
  {
   "cell_type": "markdown",
   "metadata": {},
   "source": [
    "### 3.2 Matrices\n",
    "\n",
    "Las matrices son una estructura de datos bidimensionales, poseen largo y alto. Al igual que un vector, únicamente pueden contener datos de un sólo tipo, es decir son atómicos."
   ]
  },
  {
   "cell_type": "code",
   "execution_count": 96,
   "metadata": {},
   "outputs": [
    {
     "name": "stdout",
     "output_type": "stream",
     "text": [
      " [1]  1  2  3  4  5  6  7  8  9 10\n"
     ]
    }
   ],
   "source": [
    "a <- 1:10 \n",
    "print(a)"
   ]
  },
  {
   "cell_type": "code",
   "execution_count": 41,
   "metadata": {},
   "outputs": [
    {
     "name": "stdout",
     "output_type": "stream",
     "text": [
      "      [,1]\n",
      " [1,]    1\n",
      " [2,]    2\n",
      " [3,]    3\n",
      " [4,]    4\n",
      " [5,]    5\n",
      " [6,]    6\n",
      " [7,]    7\n",
      " [8,]    8\n",
      " [9,]    9\n",
      "[10,]   10\n"
     ]
    }
   ],
   "source": [
    "b <- matrix(a)\n",
    "print(b)"
   ]
  },
  {
   "cell_type": "code",
   "execution_count": 42,
   "metadata": {},
   "outputs": [
    {
     "data": {
      "text/html": [
       "10"
      ],
      "text/latex": [
       "10"
      ],
      "text/markdown": [
       "10"
      ],
      "text/plain": [
       "[1] 10"
      ]
     },
     "metadata": {},
     "output_type": "display_data"
    },
    {
     "data": {
      "text/html": [
       "1"
      ],
      "text/latex": [
       "1"
      ],
      "text/markdown": [
       "1"
      ],
      "text/plain": [
       "[1] 1"
      ]
     },
     "metadata": {},
     "output_type": "display_data"
    },
    {
     "data": {
      "text/html": [
       "<ol class=list-inline>\n",
       "\t<li>10</li>\n",
       "\t<li>1</li>\n",
       "</ol>\n"
      ],
      "text/latex": [
       "\\begin{enumerate*}\n",
       "\\item 10\n",
       "\\item 1\n",
       "\\end{enumerate*}\n"
      ],
      "text/markdown": [
       "1. 10\n",
       "2. 1\n",
       "\n",
       "\n"
      ],
      "text/plain": [
       "[1] 10  1"
      ]
     },
     "metadata": {},
     "output_type": "display_data"
    }
   ],
   "source": [
    "nrow(b)\n",
    "ncol(b)\n",
    "dim(b)"
   ]
  },
  {
   "cell_type": "code",
   "execution_count": 100,
   "metadata": {},
   "outputs": [
    {
     "name": "stdout",
     "output_type": "stream",
     "text": [
      "     [,1] [,2] [,3] [,4] [,5]\n",
      "[1,]    1    3    5    7    9\n",
      "[2,]    2    4    6    8   10\n"
     ]
    }
   ],
   "source": [
    "c <- matrix(a,nrow=2)\n",
    "print(c)"
   ]
  },
  {
   "cell_type": "code",
   "execution_count": 44,
   "metadata": {},
   "outputs": [
    {
     "name": "stdout",
     "output_type": "stream",
     "text": [
      "     [,1] [,2]\n",
      "[1,]    1    6\n",
      "[2,]    2    7\n",
      "[3,]    3    8\n",
      "[4,]    4    9\n",
      "[5,]    5   10\n"
     ]
    }
   ],
   "source": [
    "d <- matrix(a,ncol=2)\n",
    "print(d)"
   ]
  },
  {
   "cell_type": "code",
   "execution_count": 106,
   "metadata": {},
   "outputs": [
    {
     "name": "stdout",
     "output_type": "stream",
     "text": [
      "     [,1] [,2]\n",
      "[1,]    1    2\n",
      "[2,]    3    4\n",
      "[3,]    5    6\n",
      "[4,]    7    8\n",
      "[5,]    9   10\n"
     ]
    }
   ],
   "source": [
    "e <- matrix(a,ncol=2, byrow=TRUE)\n",
    "print(e)"
   ]
  },
  {
   "cell_type": "code",
   "execution_count": 46,
   "metadata": {},
   "outputs": [
    {
     "data": {
      "text/html": [
       "'matrix'"
      ],
      "text/latex": [
       "'matrix'"
      ],
      "text/markdown": [
       "'matrix'"
      ],
      "text/plain": [
       "[1] \"matrix\""
      ]
     },
     "metadata": {},
     "output_type": "display_data"
    },
    {
     "data": {
      "text/html": [
       "'matrix'"
      ],
      "text/latex": [
       "'matrix'"
      ],
      "text/markdown": [
       "'matrix'"
      ],
      "text/plain": [
       "[1] \"matrix\""
      ]
     },
     "metadata": {},
     "output_type": "display_data"
    },
    {
     "data": {
      "text/html": [
       "'matrix'"
      ],
      "text/latex": [
       "'matrix'"
      ],
      "text/markdown": [
       "'matrix'"
      ],
      "text/plain": [
       "[1] \"matrix\""
      ]
     },
     "metadata": {},
     "output_type": "display_data"
    },
    {
     "data": {
      "text/html": [
       "'matrix'"
      ],
      "text/latex": [
       "'matrix'"
      ],
      "text/markdown": [
       "'matrix'"
      ],
      "text/plain": [
       "[1] \"matrix\""
      ]
     },
     "metadata": {},
     "output_type": "display_data"
    }
   ],
   "source": [
    "class(b)\n",
    "class(c)\n",
    "class(d)\n",
    "class(e)"
   ]
  },
  {
   "cell_type": "code",
   "execution_count": 104,
   "metadata": {},
   "outputs": [
    {
     "name": "stdout",
     "output_type": "stream",
     "text": [
      "  [,1] [,2] [,3]\n",
      "f    1    1    1\n",
      "g    0    0    0\n"
     ]
    },
    {
     "data": {
      "text/html": [
       "'matrix'"
      ],
      "text/latex": [
       "'matrix'"
      ],
      "text/markdown": [
       "'matrix'"
      ],
      "text/plain": [
       "[1] \"matrix\""
      ]
     },
     "metadata": {},
     "output_type": "display_data"
    }
   ],
   "source": [
    "f <- c(1,1,1)\n",
    "g <- c(0,0,0)\n",
    "\n",
    "h <- rbind(f,g)\n",
    "print(h)\n",
    "class(h)"
   ]
  },
  {
   "cell_type": "code",
   "execution_count": 102,
   "metadata": {},
   "outputs": [
    {
     "name": "stdout",
     "output_type": "stream",
     "text": [
      "     f g\n",
      "[1,] 1 0\n",
      "[2,] 1 0\n",
      "[3,] 1 0\n"
     ]
    },
    {
     "data": {
      "text/html": [
       "'matrix'"
      ],
      "text/latex": [
       "'matrix'"
      ],
      "text/markdown": [
       "'matrix'"
      ],
      "text/plain": [
       "[1] \"matrix\""
      ]
     },
     "metadata": {},
     "output_type": "display_data"
    }
   ],
   "source": [
    "i <- cbind(f,g)\n",
    "\n",
    "print(i)\n",
    "class(i)"
   ]
  },
  {
   "cell_type": "code",
   "execution_count": 107,
   "metadata": {},
   "outputs": [
    {
     "name": "stdout",
     "output_type": "stream",
     "text": [
      "     [,1] [,2]\n",
      "[1,]    1    2\n",
      "[2,]    3    4\n",
      "[3,]    5    6\n",
      "[4,]    7    8\n",
      "[5,]    9   10\n"
     ]
    }
   ],
   "source": [
    "print(e)"
   ]
  },
  {
   "cell_type": "code",
   "execution_count": 73,
   "metadata": {},
   "outputs": [
    {
     "name": "stdout",
     "output_type": "stream",
     "text": [
      "[1] 4\n"
     ]
    }
   ],
   "source": [
    "#elemento de segunda fila y segunda columna\n",
    "print(e[2,2])"
   ]
  },
  {
   "cell_type": "code",
   "execution_count": 110,
   "metadata": {},
   "outputs": [
    {
     "name": "stdout",
     "output_type": "stream",
     "text": [
      "[1] 3 4\n"
     ]
    }
   ],
   "source": [
    "#segunda fila\n",
    "print(e[2,])"
   ]
  },
  {
   "cell_type": "code",
   "execution_count": 72,
   "metadata": {},
   "outputs": [
    {
     "name": "stdout",
     "output_type": "stream",
     "text": [
      "[1]  2  4  6  8 10\n"
     ]
    }
   ],
   "source": [
    "#segunda columna\n",
    "print(e[,2])"
   ]
  },
  {
   "cell_type": "code",
   "execution_count": 74,
   "metadata": {},
   "outputs": [
    {
     "name": "stdout",
     "output_type": "stream",
     "text": [
      "     [,1] [,2]\n",
      "[1,]    1    2\n",
      "[2,]    5    6\n",
      "[3,]    7    8\n",
      "[4,]    9   10\n"
     ]
    }
   ],
   "source": [
    "#toda la matriz excepto la segunda fila\n",
    "print(e[-2,])"
   ]
  },
  {
   "cell_type": "markdown",
   "metadata": {},
   "source": [
    "### 3.3 Listas\n",
    "Las listas, al igual que los vectores, son estructuras de datos unidimensionales, sólo tienen largo, pero a diferencia de los vectores cada uno de sus elementos puede ser de diferente tipo o incluso de diferente clase, por lo que son estructuras heterogéneas."
   ]
  },
  {
   "cell_type": "code",
   "execution_count": 116,
   "metadata": {},
   "outputs": [
    {
     "name": "stdout",
     "output_type": "stream",
     "text": [
      "[1] \"2\"    \"TRUE\" \"hola\"\n"
     ]
    }
   ],
   "source": [
    "a <- c(2,TRUE,\"hola\")\n",
    "print(a)"
   ]
  },
  {
   "cell_type": "code",
   "execution_count": 115,
   "metadata": {},
   "outputs": [
    {
     "name": "stdout",
     "output_type": "stream",
     "text": [
      "[[1]]\n",
      "[1] 2\n",
      "\n",
      "[[2]]\n",
      "[1] TRUE\n",
      "\n",
      "[[3]]\n",
      "[1] \"hola\"\n",
      "\n"
     ]
    }
   ],
   "source": [
    "b <- list(2,TRUE,\"hola\")\n",
    "print(b)"
   ]
  },
  {
   "cell_type": "code",
   "execution_count": 117,
   "metadata": {},
   "outputs": [
    {
     "name": "stdout",
     "output_type": "stream",
     "text": [
      "[[1]]\n",
      "[1] 2\n",
      "\n",
      "[[2]]\n",
      "[1] TRUE\n",
      "\n",
      "[[3]]\n",
      "[1] \"hola\"\n",
      "\n",
      "[[4]]\n",
      "[1] 5 7 9\n",
      "\n"
     ]
    }
   ],
   "source": [
    "c <- list(2,TRUE,\"hola\",c(5,7,9))\n",
    "print(c)"
   ]
  },
  {
   "cell_type": "code",
   "execution_count": 131,
   "metadata": {
    "scrolled": true
   },
   "outputs": [
    {
     "name": "stdout",
     "output_type": "stream",
     "text": [
      "[[1]]\n",
      "[1] 1 2 3\n",
      "\n",
      "[[2]]\n",
      "[1] \"hola\" \"chau\"\n",
      "\n",
      "[[3]]\n",
      "     [,1] [,2] [,3]\n",
      "[1,]    1    2    3\n",
      "[2,]    4    5    6\n",
      "[3,]    7    8    9\n",
      "\n",
      "[[4]]\n",
      "[1] TRUE\n",
      "\n"
     ]
    }
   ],
   "source": [
    "vectorNumerico <- c(1,2,3)\n",
    "vectorChar <- c(\"hola\",\"chau\")\n",
    "matriz <- matrix(1:9,nrow=3, byrow=TRUE)\n",
    "dummy <- TRUE\n",
    "\n",
    "a <- list(vectorNumerico, vectorChar, matriz, dummy)\n",
    "print(a)"
   ]
  },
  {
   "cell_type": "code",
   "execution_count": 132,
   "metadata": {},
   "outputs": [
    {
     "name": "stdout",
     "output_type": "stream",
     "text": [
      "$vector1\n",
      "[1] 1 2 3\n",
      "\n",
      "$vector2\n",
      "[1] \"hola\" \"chau\"\n",
      "\n",
      "$matriz\n",
      "     [,1] [,2] [,3]\n",
      "[1,]    1    2    3\n",
      "[2,]    4    5    6\n",
      "[3,]    7    8    9\n",
      "\n",
      "$dummy\n",
      "[1] TRUE\n",
      "\n"
     ]
    }
   ],
   "source": [
    "b <- list(\"vector1\"=vectorNumerico, \"vector2\"=vectorChar, \"matriz\"=matriz, \"dummy\"=dummy)\n",
    "print(b)"
   ]
  },
  {
   "cell_type": "code",
   "execution_count": 133,
   "metadata": {},
   "outputs": [
    {
     "data": {
      "text/html": [
       "<ol>\n",
       "\t<li><ol class=list-inline>\n",
       "\t<li>'hola'</li>\n",
       "\t<li>'chau'</li>\n",
       "</ol>\n",
       "</li>\n",
       "</ol>\n"
      ],
      "text/latex": [
       "\\begin{enumerate}\n",
       "\\item \\begin{enumerate*}\n",
       "\\item 'hola'\n",
       "\\item 'chau'\n",
       "\\end{enumerate*}\n",
       "\n",
       "\\end{enumerate}\n"
      ],
      "text/markdown": [
       "1. 1. 'hola'\n",
       "2. 'chau'\n",
       "\n",
       "\n",
       "\n",
       "\n",
       "\n"
      ],
      "text/plain": [
       "[[1]]\n",
       "[1] \"hola\" \"chau\"\n"
      ]
     },
     "metadata": {},
     "output_type": "display_data"
    }
   ],
   "source": [
    "a[2]"
   ]
  },
  {
   "cell_type": "code",
   "execution_count": 134,
   "metadata": {},
   "outputs": [
    {
     "data": {
      "text/html": [
       "<ol class=list-inline>\n",
       "\t<li>'hola'</li>\n",
       "\t<li>'chau'</li>\n",
       "</ol>\n"
      ],
      "text/latex": [
       "\\begin{enumerate*}\n",
       "\\item 'hola'\n",
       "\\item 'chau'\n",
       "\\end{enumerate*}\n"
      ],
      "text/markdown": [
       "1. 'hola'\n",
       "2. 'chau'\n",
       "\n",
       "\n"
      ],
      "text/plain": [
       "[1] \"hola\" \"chau\""
      ]
     },
     "metadata": {},
     "output_type": "display_data"
    },
    {
     "data": {
      "text/html": [
       "<strong>$vector2</strong> = <ol class=list-inline>\n",
       "\t<li>'hola'</li>\n",
       "\t<li>'chau'</li>\n",
       "</ol>\n"
      ],
      "text/latex": [
       "\\textbf{\\$vector2} = \\begin{enumerate*}\n",
       "\\item 'hola'\n",
       "\\item 'chau'\n",
       "\\end{enumerate*}\n"
      ],
      "text/markdown": [
       "**$vector2** = 1. 'hola'\n",
       "2. 'chau'\n",
       "\n",
       "\n"
      ],
      "text/plain": [
       "$vector2\n",
       "[1] \"hola\" \"chau\"\n"
      ]
     },
     "metadata": {},
     "output_type": "display_data"
    },
    {
     "name": "stdout",
     "output_type": "stream",
     "text": [
      "     [,1] [,2] [,3]\n",
      "[1,]    1    2    3\n",
      "[2,]    4    5    6\n",
      "[3,]    7    8    9\n"
     ]
    }
   ],
   "source": [
    "b$vector2\n",
    "b[2]\n",
    "print(b$matriz)"
   ]
  },
  {
   "cell_type": "code",
   "execution_count": 135,
   "metadata": {},
   "outputs": [
    {
     "data": {
      "text/plain": [
       "NULL"
      ]
     },
     "metadata": {},
     "output_type": "display_data"
    },
    {
     "data": {
      "text/html": [
       "<ol class=list-inline>\n",
       "\t<li>'vector1'</li>\n",
       "\t<li>'vector2'</li>\n",
       "\t<li>'matriz'</li>\n",
       "\t<li>'dummy'</li>\n",
       "</ol>\n"
      ],
      "text/latex": [
       "\\begin{enumerate*}\n",
       "\\item 'vector1'\n",
       "\\item 'vector2'\n",
       "\\item 'matriz'\n",
       "\\item 'dummy'\n",
       "\\end{enumerate*}\n"
      ],
      "text/markdown": [
       "1. 'vector1'\n",
       "2. 'vector2'\n",
       "3. 'matriz'\n",
       "4. 'dummy'\n",
       "\n",
       "\n"
      ],
      "text/plain": [
       "[1] \"vector1\" \"vector2\" \"matriz\"  \"dummy\"  "
      ]
     },
     "metadata": {},
     "output_type": "display_data"
    }
   ],
   "source": [
    "names(a)\n",
    "names(b)"
   ]
  },
  {
   "cell_type": "code",
   "execution_count": 136,
   "metadata": {},
   "outputs": [
    {
     "name": "stdout",
     "output_type": "stream",
     "text": [
      "$vector1\n",
      "[1] 1 2 3\n",
      "\n",
      "$vector2\n",
      "[1] \"hola\" \"chau\"\n",
      "\n",
      "$matriz\n",
      "     [,1] [,2] [,3]\n",
      "[1,]    1    2    3\n",
      "[2,]    4    5    6\n",
      "[3,]    7    8    9\n",
      "\n",
      "$dummy\n",
      "[1] TRUE\n",
      "\n"
     ]
    }
   ],
   "source": [
    "names(a) <- c(\"vector1\",\"vector2\",\"matriz\",\"dummy\")\n",
    "print(a)"
   ]
  },
  {
   "cell_type": "code",
   "execution_count": 137,
   "metadata": {},
   "outputs": [
    {
     "name": "stdout",
     "output_type": "stream",
     "text": [
      "$vector1\n",
      "[1] 1 2 3\n",
      "\n",
      "$vector2\n",
      "[1] \"hola\" \"chau\"\n",
      "\n",
      "$matriz\n",
      "     [,1] [,2] [,3]\n",
      "[1,]    1    2    3\n",
      "[2,]    4    5    6\n",
      "[3,]    7    8    9\n",
      "\n",
      "$dummy\n",
      "[1] TRUE\n",
      "\n",
      "$nuevo\n",
      "[1] \"Hola mundo\"\n",
      "\n"
     ]
    }
   ],
   "source": [
    "a$nuevo <- \"Hola mundo\"\n",
    "print(a)"
   ]
  },
  {
   "cell_type": "code",
   "execution_count": 138,
   "metadata": {},
   "outputs": [
    {
     "name": "stdout",
     "output_type": "stream",
     "text": [
      "$vector1\n",
      "[1] 1 2 3\n",
      "\n",
      "$vector2\n",
      "[1] \"hola\" \"chau\"\n",
      "\n",
      "$matriz\n",
      "     [,1] [,2] [,3]\n",
      "[1,]    1    2    3\n",
      "[2,]    4    5    6\n",
      "[3,]    7    8    9\n",
      "\n",
      "$dummy\n",
      "[1] TRUE\n",
      "\n",
      "$nuevo\n",
      "[1] \"Hola mundo\"\n",
      "\n",
      "[[6]]\n",
      "[1] 5 6\n",
      "\n"
     ]
    }
   ],
   "source": [
    "a[6] <- list(c(5,6))\n",
    "print(a)"
   ]
  },
  {
   "cell_type": "code",
   "execution_count": 139,
   "metadata": {},
   "outputs": [
    {
     "data": {
      "text/html": [
       "<ol class=list-inline>\n",
       "\t<li>'vector1'</li>\n",
       "\t<li>'vector2'</li>\n",
       "\t<li>'matriz'</li>\n",
       "\t<li>'dummy'</li>\n",
       "\t<li>'nuevo'</li>\n",
       "\t<li>''</li>\n",
       "</ol>\n"
      ],
      "text/latex": [
       "\\begin{enumerate*}\n",
       "\\item 'vector1'\n",
       "\\item 'vector2'\n",
       "\\item 'matriz'\n",
       "\\item 'dummy'\n",
       "\\item 'nuevo'\n",
       "\\item ''\n",
       "\\end{enumerate*}\n"
      ],
      "text/markdown": [
       "1. 'vector1'\n",
       "2. 'vector2'\n",
       "3. 'matriz'\n",
       "4. 'dummy'\n",
       "5. 'nuevo'\n",
       "6. ''\n",
       "\n",
       "\n"
      ],
      "text/plain": [
       "[1] \"vector1\" \"vector2\" \"matriz\"  \"dummy\"   \"nuevo\"   \"\"       "
      ]
     },
     "metadata": {},
     "output_type": "display_data"
    }
   ],
   "source": [
    "names(a)"
   ]
  },
  {
   "cell_type": "markdown",
   "metadata": {},
   "source": [
    "### 3.3 Data frames\n",
    "El origen del data frame proviene de una intensa investigación empírica en el mundo del software estadístico. En particular, es una estructura de datos en R donde hay observaciones o registros (filas) y variables o campos (columnas).\n",
    "\n",
    "Se utiliza un data frame para almacenar tablas de datos, los vectores que están contenidos en forma de una lista en un marco de datos son de igual longitud."
   ]
  },
  {
   "cell_type": "code",
   "execution_count": 144,
   "metadata": {},
   "outputs": [
    {
     "data": {
      "text/html": [
       "<table>\n",
       "<thead><tr><th scope=col>nombres</th><th scope=col>edad</th><th scope=col>sexo</th></tr></thead>\n",
       "<tbody>\n",
       "\t<tr><td>Armando</td><td>20     </td><td>Hombre </td></tr>\n",
       "\t<tr><td>Elsa   </td><td>24     </td><td>Mujer  </td></tr>\n",
       "\t<tr><td>Ignacio</td><td>22     </td><td>Hombre </td></tr>\n",
       "\t<tr><td>Olga   </td><td>30     </td><td>Mujer  </td></tr>\n",
       "</tbody>\n",
       "</table>\n"
      ],
      "text/latex": [
       "\\begin{tabular}{r|lll}\n",
       " nombres & edad & sexo\\\\\n",
       "\\hline\n",
       "\t Armando & 20      & Hombre \\\\\n",
       "\t Elsa    & 24      & Mujer  \\\\\n",
       "\t Ignacio & 22      & Hombre \\\\\n",
       "\t Olga    & 30      & Mujer  \\\\\n",
       "\\end{tabular}\n"
      ],
      "text/markdown": [
       "\n",
       "| nombres | edad | sexo |\n",
       "|---|---|---|\n",
       "| Armando | 20      | Hombre  |\n",
       "| Elsa    | 24      | Mujer   |\n",
       "| Ignacio | 22      | Hombre  |\n",
       "| Olga    | 30      | Mujer   |\n",
       "\n"
      ],
      "text/plain": [
       "  nombres edad sexo  \n",
       "1 Armando 20   Hombre\n",
       "2 Elsa    24   Mujer \n",
       "3 Ignacio 22   Hombre\n",
       "4 Olga    30   Mujer "
      ]
     },
     "metadata": {},
     "output_type": "display_data"
    },
    {
     "name": "stdout",
     "output_type": "stream",
     "text": [
      "  nombres edad   sexo\n",
      "1 Armando   20 Hombre\n",
      "2    Elsa   24  Mujer\n",
      "3 Ignacio   22 Hombre\n",
      "4    Olga   30  Mujer\n"
     ]
    }
   ],
   "source": [
    "vector1 <- c(\"Armando\", \"Elsa\", \"Ignacio\", \"Olga\")\n",
    "vector2 <- c(20, 24, 22, 30)\n",
    "vector3 <- c(\"Hombre\", \"Mujer\", \"Hombre\", \"Mujer\")\n",
    "\n",
    "\n",
    "dataEstructurada <- data.frame(\"nombres\"= vector1, \"edad\" = vector2, \"sexo\"= vector3)\n",
    "dataEstructurada #printeo Jupyter\n",
    "print(dataEstructurada) #printeo R"
   ]
  },
  {
   "cell_type": "code",
   "execution_count": 145,
   "metadata": {},
   "outputs": [
    {
     "data": {
      "text/html": [
       "<ol class=list-inline>\n",
       "\t<li>'nombres'</li>\n",
       "\t<li>'edad'</li>\n",
       "\t<li>'sexo'</li>\n",
       "</ol>\n"
      ],
      "text/latex": [
       "\\begin{enumerate*}\n",
       "\\item 'nombres'\n",
       "\\item 'edad'\n",
       "\\item 'sexo'\n",
       "\\end{enumerate*}\n"
      ],
      "text/markdown": [
       "1. 'nombres'\n",
       "2. 'edad'\n",
       "3. 'sexo'\n",
       "\n",
       "\n"
      ],
      "text/plain": [
       "[1] \"nombres\" \"edad\"    \"sexo\"   "
      ]
     },
     "metadata": {},
     "output_type": "display_data"
    }
   ],
   "source": [
    "names(dataEstructurada)"
   ]
  },
  {
   "cell_type": "code",
   "execution_count": 146,
   "metadata": {},
   "outputs": [
    {
     "name": "stdout",
     "output_type": "stream",
     "text": [
      "[1] Hombre Mujer  Hombre Mujer \n",
      "Levels: Hombre Mujer\n"
     ]
    }
   ],
   "source": [
    "print(dataEstructurada$sexo)"
   ]
  },
  {
   "cell_type": "code",
   "execution_count": 147,
   "metadata": {},
   "outputs": [
    {
     "name": "stdout",
     "output_type": "stream",
     "text": [
      "    sexo\n",
      "1 Hombre\n",
      "2  Mujer\n",
      "3 Hombre\n",
      "4  Mujer\n"
     ]
    }
   ],
   "source": [
    "print(dataEstructurada[3])"
   ]
  },
  {
   "cell_type": "code",
   "execution_count": 148,
   "metadata": {},
   "outputs": [
    {
     "name": "stdout",
     "output_type": "stream",
     "text": [
      "  nombres edad  sexo\n",
      "2    Elsa   24 Mujer\n"
     ]
    }
   ],
   "source": [
    "print(dataEstructurada[2,])"
   ]
  },
  {
   "cell_type": "code",
   "execution_count": 149,
   "metadata": {},
   "outputs": [
    {
     "name": "stdout",
     "output_type": "stream",
     "text": [
      "  nombres edad   sexo\n",
      "1 Armando   20 Hombre\n",
      "3 Ignacio   22 Hombre\n",
      "4    Olga   30  Mujer\n"
     ]
    }
   ],
   "source": [
    "print(dataEstructurada[-2,])"
   ]
  },
  {
   "cell_type": "code",
   "execution_count": 150,
   "metadata": {},
   "outputs": [
    {
     "name": "stdout",
     "output_type": "stream",
     "text": [
      "  nombres edad   sexo\n",
      "2    Elsa   24  Mujer\n",
      "3 Ignacio   22 Hombre\n"
     ]
    }
   ],
   "source": [
    "print(dataEstructurada[2:3,])"
   ]
  },
  {
   "cell_type": "code",
   "execution_count": 151,
   "metadata": {},
   "outputs": [
    {
     "name": "stdout",
     "output_type": "stream",
     "text": [
      "'data.frame':\t4 obs. of  3 variables:\n",
      " $ nombres: Factor w/ 4 levels \"Armando\",\"Elsa\",..: 1 2 3 4\n",
      " $ edad   : num  20 24 22 30\n",
      " $ sexo   : Factor w/ 2 levels \"Hombre\",\"Mujer\": 1 2 1 2\n"
     ]
    }
   ],
   "source": [
    "str(dataEstructurada)"
   ]
  },
  {
   "cell_type": "code",
   "execution_count": 32,
   "metadata": {},
   "outputs": [
    {
     "data": {
      "text/html": [
       "<ol class=list-inline>\n",
       "\t<li>4</li>\n",
       "\t<li>3</li>\n",
       "</ol>\n"
      ],
      "text/latex": [
       "\\begin{enumerate*}\n",
       "\\item 4\n",
       "\\item 3\n",
       "\\end{enumerate*}\n"
      ],
      "text/markdown": [
       "1. 4\n",
       "2. 3\n",
       "\n",
       "\n"
      ],
      "text/plain": [
       "[1] 4 3"
      ]
     },
     "metadata": {},
     "output_type": "display_data"
    },
    {
     "data": {
      "text/html": [
       "4"
      ],
      "text/latex": [
       "4"
      ],
      "text/markdown": [
       "4"
      ],
      "text/plain": [
       "[1] 4"
      ]
     },
     "metadata": {},
     "output_type": "display_data"
    },
    {
     "data": {
      "text/html": [
       "3"
      ],
      "text/latex": [
       "3"
      ],
      "text/markdown": [
       "3"
      ],
      "text/plain": [
       "[1] 3"
      ]
     },
     "metadata": {},
     "output_type": "display_data"
    }
   ],
   "source": [
    "dim(dataEstructurada)\n",
    "nrow(dataEstructurada)\n",
    "ncol(dataEstructurada)"
   ]
  },
  {
   "cell_type": "code",
   "execution_count": 152,
   "metadata": {},
   "outputs": [
    {
     "data": {
      "text/plain": [
       "    nombres       edad          sexo  \n",
       " Armando:1   Min.   :20.0   Hombre:2  \n",
       " Elsa   :1   1st Qu.:21.5   Mujer :2  \n",
       " Ignacio:1   Median :23.0             \n",
       " Olga   :1   Mean   :24.0             \n",
       "             3rd Qu.:25.5             \n",
       "             Max.   :30.0             "
      ]
     },
     "metadata": {},
     "output_type": "display_data"
    }
   ],
   "source": [
    "summary(dataEstructurada)"
   ]
  }
 ],
 "metadata": {
  "kernelspec": {
   "display_name": "R",
   "language": "R",
   "name": "ir"
  },
  "language_info": {
   "codemirror_mode": "r",
   "file_extension": ".r",
   "mimetype": "text/x-r-source",
   "name": "R",
   "pygments_lexer": "r",
   "version": "3.5.3"
  }
 },
 "nbformat": 4,
 "nbformat_minor": 2
}
