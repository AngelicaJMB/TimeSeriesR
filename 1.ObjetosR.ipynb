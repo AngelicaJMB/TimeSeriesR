{
  "cells": [
    {
      "metadata": {
        "trusted": false
      },
      "cell_type": "code",
      "source": "sessionInfo()",
      "execution_count": 1,
      "outputs": [
        {
          "data": {
            "text/plain": "R version 3.5.3 (2019-03-11)\nPlatform: x86_64-w64-mingw32/x64 (64-bit)\nRunning under: Windows 8.1 x64 (build 9600)\n\nMatrix products: default\n\nlocale:\n[1] LC_COLLATE=Spanish_Peru.1252  LC_CTYPE=Spanish_Peru.1252   \n[3] LC_MONETARY=Spanish_Peru.1252 LC_NUMERIC=C                 \n[5] LC_TIME=Spanish_Peru.1252    \n\nattached base packages:\n[1] stats     graphics  grDevices utils     datasets  methods   base     \n\nother attached packages:\n[1] RevoUtils_11.0.3     RevoUtilsMath_11.0.0\n\nloaded via a namespace (and not attached):\n [1] compiler_3.5.3  IRdisplay_0.7.0 pbdZMQ_0.3-3    tools_3.5.3    \n [5] htmltools_0.3.6 base64enc_0.1-3 crayon_1.3.4    Rcpp_1.0.0     \n [9] uuid_0.1-2      IRkernel_0.8.15 jsonlite_1.5    digest_0.6.18  \n[13] repr_0.19.2     evaluate_0.12  "
          },
          "metadata": {},
          "output_type": "display_data"
        }
      ]
    },
    {
      "metadata": {},
      "cell_type": "markdown",
      "source": "# Fundamentos de programación en R\n1. Lenguaje de programación orientado a objetos\n2. Objetos en R\n3. Indexando y algunos comandos básicos\n4. Operaciones\n\n## 1. Lenguaje de programación orientado a objetos\n### Lenguaje de Programación Orientado a Objetos (OOP) o Programación Funcional (FP)\nOOP y FP son diferentes paradigmas para alcanzar un objetivo a través de la programación.\n\n> OOP: Un paradigma de programación basado en el concepto de \"objetos\", que son estructuras que contienen datos en forma de campos, a menudo conocidos como atributos; y código, en forma de procedimientos, a menudo conocidos como métodos.\n[wikipedia](https://en.wikipedia.org/wiki/Object-oriented_programming)\n\n> FP: Un paradigma de programación, un estilo de construcción de estructuras y elementos del código, que trata al programa como evaluación de funciones matemáticas, evitando así, el cambio de estados y datos mutables.\n[wikipedia](https://en.wikipedia.org/wiki/Functional_programming)\n\nEn cualquier programa hay dos componentes principales: *datos* y *comportamientos*. OOP reúne a los datos y sus comportamientos asociados en una única ubicación (llamada \"objeto\"). En cambio, FP mantiene los datos y sus comportamientos por separado.\n\nInteresante artículo comparando OOP y FP [here](https://www.tutorialspoint.com/functional_programming/functional_programming_introduction.htm)\n\n### Ejemplos\n* OOP: lenguajes más populare como Python, R, Matlab, Julia, Fortran, Ruby, ...\n\n* FP: Mathematica, Ruby,...\n\n## 2. Objectos en R: Tipos de datos\n\nCuando programas en cualquier lenguaje necesitas usar diferentes variables para almacenar diferentes datos. Además, las variables se reservan en una ubicación de memoria, esto implica que, una vez que se crea una variable, se reserva un área en la memoria. Estos objetos son:\n\n<table>\n<thead>\n<tr>\n<th>Objeto</th>\n<th>Descripción</th>\n<th>Función que verifica</th>    \n</tr>\n</thead>\n<tbody>\n<tr>\n<td>integer</td>\n<td>valores enteros</td>\n<td><code>is.integer()</code></td>    \n</tr>\n<tr>\n<td>numeric</td>\n<td>valores flotantes</td>\n<td><code>is.numeric()</code></td>    \n</tr>\n<tr>\n<td>character</td>\n<td>cadenas de texto</td>\n<td><code>is.character()</code></td>\n</tr>\n<tr>\n<td>logical</td>\n<td>valores booleanos</td>\n<td><code>is.logical()</code></td>\n</tbody>\n</table>\n\nLos objetos se pueden identificar con el comando *class()* o *mode()*\n\n**Nota**: *las variables no tienen que declararse antes de ser usadas. Cuando asignas tiene una declaración automática*\n\n### 2.1. Logical\nUna declaración lógica verdadera/falsa"
    },
    {
      "metadata": {
        "trusted": false
      },
      "cell_type": "code",
      "source": "a <- TRUE\nb <- FALSE\n\nprint(a)\nprint(b)",
      "execution_count": 8,
      "outputs": [
        {
          "name": "stdout",
          "output_type": "stream",
          "text": "[1] TRUE\n[1] FALSE\n[1] TRUE\n[1] TRUE\n[1] FALSE\n"
        }
      ]
    },
    {
      "metadata": {},
      "cell_type": "markdown",
      "source": "R puede indetificar el tipo de variable"
    },
    {
      "metadata": {
        "trusted": false
      },
      "cell_type": "code",
      "source": "print(class(a))\nprint(class(b))",
      "execution_count": 4,
      "outputs": [
        {
          "name": "stdout",
          "output_type": "stream",
          "text": "[1] \"logical\"\n[1] \"logical\"\n[1] \"logical\"\n[1] \"logical\"\n"
        },
        {
          "data": {
            "text/html": "'logical'",
            "text/latex": "'logical'",
            "text/markdown": "'logical'",
            "text/plain": "[1] \"logical\""
          },
          "metadata": {},
          "output_type": "display_data"
        },
        {
          "data": {
            "text/html": "'logical'",
            "text/latex": "'logical'",
            "text/markdown": "'logical'",
            "text/plain": "[1] \"logical\""
          },
          "metadata": {},
          "output_type": "display_data"
        }
      ]
    },
    {
      "metadata": {
        "trusted": false
      },
      "cell_type": "code",
      "source": "mode(a)\nclass(a)",
      "execution_count": 26,
      "outputs": [
        {
          "data": {
            "text/html": "'character'",
            "text/latex": "'character'",
            "text/markdown": "'character'",
            "text/plain": "[1] \"character\""
          },
          "metadata": {},
          "output_type": "display_data"
        },
        {
          "data": {
            "text/html": "'character'",
            "text/latex": "'character'",
            "text/markdown": "'character'",
            "text/plain": "[1] \"character\""
          },
          "metadata": {},
          "output_type": "display_data"
        }
      ]
    },
    {
      "metadata": {},
      "cell_type": "markdown",
      "source": "### 2.2. Integer y numeric\nLos números pueden ser enteros (sin decimales) o flotantes (decimales de doble precisión)."
    },
    {
      "metadata": {
        "trusted": false
      },
      "cell_type": "code",
      "source": "c <- 4L #se usa el sufijo L\nd <- 4\ne <- 4.5\nprint(c)\nprint(d)\nprint(e)",
      "execution_count": 34,
      "outputs": [
        {
          "name": "stdout",
          "output_type": "stream",
          "text": "[1] 4\n[1] 4\n[1] 4.5\n"
        }
      ]
    },
    {
      "metadata": {
        "trusted": false
      },
      "cell_type": "code",
      "source": "class(c)\nclass(d)",
      "execution_count": 35,
      "outputs": [
        {
          "data": {
            "text/html": "'integer'",
            "text/latex": "'integer'",
            "text/markdown": "'integer'",
            "text/plain": "[1] \"integer\""
          },
          "metadata": {},
          "output_type": "display_data"
        },
        {
          "data": {
            "text/html": "'numeric'",
            "text/latex": "'numeric'",
            "text/markdown": "'numeric'",
            "text/plain": "[1] \"numeric\""
          },
          "metadata": {},
          "output_type": "display_data"
        }
      ]
    },
    {
      "metadata": {
        "trusted": false
      },
      "cell_type": "code",
      "source": "is.logical(c)\nis.integer(c)\nis.numeric(c)",
      "execution_count": 36,
      "outputs": [
        {
          "data": {
            "text/html": "FALSE",
            "text/latex": "FALSE",
            "text/markdown": "FALSE",
            "text/plain": "[1] FALSE"
          },
          "metadata": {},
          "output_type": "display_data"
        },
        {
          "data": {
            "text/html": "TRUE",
            "text/latex": "TRUE",
            "text/markdown": "TRUE",
            "text/plain": "[1] TRUE"
          },
          "metadata": {},
          "output_type": "display_data"
        },
        {
          "data": {
            "text/html": "TRUE",
            "text/latex": "TRUE",
            "text/markdown": "TRUE",
            "text/plain": "[1] TRUE"
          },
          "metadata": {},
          "output_type": "display_data"
        }
      ]
    },
    {
      "metadata": {
        "trusted": false
      },
      "cell_type": "code",
      "source": "is.logical(d)\nis.integer(d)\nis.numeric(d)",
      "execution_count": 37,
      "outputs": [
        {
          "data": {
            "text/html": "FALSE",
            "text/latex": "FALSE",
            "text/markdown": "FALSE",
            "text/plain": "[1] FALSE"
          },
          "metadata": {},
          "output_type": "display_data"
        },
        {
          "data": {
            "text/html": "FALSE",
            "text/latex": "FALSE",
            "text/markdown": "FALSE",
            "text/plain": "[1] FALSE"
          },
          "metadata": {},
          "output_type": "display_data"
        },
        {
          "data": {
            "text/html": "TRUE",
            "text/latex": "TRUE",
            "text/markdown": "TRUE",
            "text/plain": "[1] TRUE"
          },
          "metadata": {},
          "output_type": "display_data"
        }
      ]
    },
    {
      "metadata": {
        "trusted": false
      },
      "cell_type": "code",
      "source": "c==d",
      "execution_count": 32,
      "outputs": [
        {
          "data": {
            "text/html": "TRUE",
            "text/latex": "TRUE",
            "text/markdown": "TRUE",
            "text/plain": "[1] TRUE"
          },
          "metadata": {},
          "output_type": "display_data"
        }
      ]
    },
    {
      "metadata": {
        "trusted": false
      },
      "cell_type": "code",
      "source": "class(c)\nclass(d)\nclass(c)==class(d)",
      "execution_count": 33,
      "outputs": [
        {
          "data": {
            "text/html": "'integer'",
            "text/latex": "'integer'",
            "text/markdown": "'integer'",
            "text/plain": "[1] \"integer\""
          },
          "metadata": {},
          "output_type": "display_data"
        },
        {
          "data": {
            "text/html": "'numeric'",
            "text/latex": "'numeric'",
            "text/markdown": "'numeric'",
            "text/plain": "[1] \"numeric\""
          },
          "metadata": {},
          "output_type": "display_data"
        },
        {
          "data": {
            "text/html": "FALSE",
            "text/latex": "FALSE",
            "text/markdown": "FALSE",
            "text/plain": "[1] FALSE"
          },
          "metadata": {},
          "output_type": "display_data"
        }
      ]
    },
    {
      "metadata": {},
      "cell_type": "markdown",
      "source": "### 2.3. Character\nUn Character es una cadena de texto"
    },
    {
      "metadata": {
        "scrolled": true,
        "trusted": false
      },
      "cell_type": "code",
      "source": "a <- 'R-proyect'\nb <- \"R-proyect\"\nc <- \"4\"\nd <- 4\n\nprint(a)\nprint(b)\nprint(c)\nprint(d)\nprint(\"hola mundo\")\nprint(\"a\")",
      "execution_count": 43,
      "outputs": [
        {
          "name": "stdout",
          "output_type": "stream",
          "text": "[1] \"R-proyect\"\n[1] \"R-proyect\"\n[1] \"4\"\n[1] 4\n[1] \"hola mundo\"\n[1] \"a\"\n"
        }
      ]
    },
    {
      "metadata": {
        "trusted": false
      },
      "cell_type": "code",
      "source": "f <- \"a\"\ng <- a\n\nprint(f)\nprint(g)",
      "execution_count": 39,
      "outputs": [
        {
          "name": "stdout",
          "output_type": "stream",
          "text": "[1] \"a\"\n[1] \"R-proyect\"\n"
        }
      ]
    },
    {
      "metadata": {
        "trusted": false
      },
      "cell_type": "code",
      "source": "print(class(a))\nprint(class(b))\nprint(class(c))\nprint(class(d))\nprint(class(f))\nprint(class(g))",
      "execution_count": 44,
      "outputs": [
        {
          "name": "stdout",
          "output_type": "stream",
          "text": "[1] \"character\"\n[1] \"character\"\n[1] \"character\"\n[1] \"numeric\"\n[1] \"character\"\n[1] \"character\"\n"
        }
      ]
    },
    {
      "metadata": {
        "trusted": false
      },
      "cell_type": "code",
      "source": "a==b \nclass(a)==class(b)",
      "execution_count": 47,
      "outputs": [
        {
          "data": {
            "text/html": "TRUE",
            "text/latex": "TRUE",
            "text/markdown": "TRUE",
            "text/plain": "[1] TRUE"
          },
          "metadata": {},
          "output_type": "display_data"
        },
        {
          "data": {
            "text/html": "TRUE",
            "text/latex": "TRUE",
            "text/markdown": "TRUE",
            "text/plain": "[1] TRUE"
          },
          "metadata": {},
          "output_type": "display_data"
        },
        {
          "data": {
            "text/html": "TRUE",
            "text/latex": "TRUE",
            "text/markdown": "TRUE",
            "text/plain": "[1] TRUE"
          },
          "metadata": {},
          "output_type": "display_data"
        }
      ]
    },
    {
      "metadata": {
        "trusted": false
      },
      "cell_type": "code",
      "source": "\"4\"== 4\nc==d\nclass(c)==class(d)",
      "execution_count": 48,
      "outputs": [
        {
          "data": {
            "text/html": "TRUE",
            "text/latex": "TRUE",
            "text/markdown": "TRUE",
            "text/plain": "[1] TRUE"
          },
          "metadata": {},
          "output_type": "display_data"
        },
        {
          "data": {
            "text/html": "TRUE",
            "text/latex": "TRUE",
            "text/markdown": "TRUE",
            "text/plain": "[1] TRUE"
          },
          "metadata": {},
          "output_type": "display_data"
        },
        {
          "data": {
            "text/html": "FALSE",
            "text/latex": "FALSE",
            "text/markdown": "FALSE",
            "text/plain": "[1] FALSE"
          },
          "metadata": {},
          "output_type": "display_data"
        }
      ]
    },
    {
      "metadata": {
        "trusted": false
      },
      "cell_type": "code",
      "source": "a <- \"manzana\"\nb <- \"platano\"\nc <- \"uva\"\n#meta: \"manzana,platano,uva\"\nd <- paste(a,b,c, sep=\",\")\nprint(d)",
      "execution_count": 59,
      "outputs": [
        {
          "name": "stdout",
          "output_type": "stream",
          "text": "[1] \"manzana,platano,uva\"\n"
        }
      ]
    },
    {
      "metadata": {
        "trusted": false
      },
      "cell_type": "code",
      "source": "e <- \"hola\"\nf <- \"mundo\"\n#meta: \"hola mundo\"\n\npaste(e,f)\npaste(e,f,sep=\" \")",
      "execution_count": 60,
      "outputs": [
        {
          "data": {
            "text/html": "'hola mundo'",
            "text/latex": "'hola mundo'",
            "text/markdown": "'hola mundo'",
            "text/plain": "[1] \"hola mundo\""
          },
          "metadata": {},
          "output_type": "display_data"
        },
        {
          "data": {
            "text/html": "'hola mundo'",
            "text/latex": "'hola mundo'",
            "text/markdown": "'hola mundo'",
            "text/plain": "[1] \"hola mundo\""
          },
          "metadata": {},
          "output_type": "display_data"
        }
      ]
    },
    {
      "metadata": {},
      "cell_type": "markdown",
      "source": "## 3. Objectos en R: Estructuras de datos\n\nTambién existen objetos que son estructuras de datos, en la cual una variable puede almacenar más de un dato.\n\n<table>\n<thead>\n<tr>\n<th>Dimensiones</th>\n<th>Homogeneas</th>\n<th>Heterogeneas</th>\n</tr>\n</thead>\n<tbody>\n<tr>\n<td>1</td>\n<td>Vector</td>\n<td>Lista</td>\n</tr>\n<tr>\n<td>2</td>\n<td>Matriz</td>\n<td>Data frame</td>\n</tbody>\n</table>"
    },
    {
      "metadata": {},
      "cell_type": "markdown",
      "source": "### 3.1 Vectores\n\nUn vector es la estructura de datos más sencilla en R. Un vector es una colección de uno o más datos del mismo tipo.\n\n**Tipo**: Un vector tiene el mismo tipo que los datos que contiene. Si tenemos un vector que contiene datos de tipo numérico, el vector será también de tipo numérico. Los vectores son atómicos, pues sólo pueden contener datos de un sólo tipo, no es posible mezclar datos de tipos diferentes dentro de ellos.\n\n**Largo**: Es el número de elementos que contiene un vector. El largo es la única dimensión que tiene esta estructura de datos."
    },
    {
      "metadata": {
        "trusted": true
      },
      "cell_type": "code",
      "source": "a <- c(FALSE, FALSE,TRUE)\nb <- c(1,2,3,4)\nc <- c(\"hola\",\"como\",\"estas\")\na\nb\nc",
      "execution_count": 2,
      "outputs": [
        {
          "output_type": "display_data",
          "data": {
            "text/plain": "[1] FALSE FALSE  TRUE",
            "text/latex": "\\begin{enumerate*}\n\\item FALSE\n\\item FALSE\n\\item TRUE\n\\end{enumerate*}\n",
            "text/markdown": "1. FALSE\n2. FALSE\n3. TRUE\n\n\n",
            "text/html": "<ol class=list-inline>\n\t<li>FALSE</li>\n\t<li>FALSE</li>\n\t<li>TRUE</li>\n</ol>\n"
          },
          "metadata": {}
        },
        {
          "output_type": "display_data",
          "data": {
            "text/plain": "[1] 1 2 3 4",
            "text/latex": "\\begin{enumerate*}\n\\item 1\n\\item 2\n\\item 3\n\\item 4\n\\end{enumerate*}\n",
            "text/markdown": "1. 1\n2. 2\n3. 3\n4. 4\n\n\n",
            "text/html": "<ol class=list-inline>\n\t<li>1</li>\n\t<li>2</li>\n\t<li>3</li>\n\t<li>4</li>\n</ol>\n"
          },
          "metadata": {}
        },
        {
          "output_type": "display_data",
          "data": {
            "text/plain": "[1] \"hola\"  \"como\"  \"estas\"",
            "text/latex": "\\begin{enumerate*}\n\\item 'hola'\n\\item 'como'\n\\item 'estas'\n\\end{enumerate*}\n",
            "text/markdown": "1. 'hola'\n2. 'como'\n3. 'estas'\n\n\n",
            "text/html": "<ol class=list-inline>\n\t<li>'hola'</li>\n\t<li>'como'</li>\n\t<li>'estas'</li>\n</ol>\n"
          },
          "metadata": {}
        }
      ]
    },
    {
      "metadata": {
        "trusted": false
      },
      "cell_type": "code",
      "source": "class(a)\nclass(b)\nclass(c)",
      "execution_count": 80,
      "outputs": [
        {
          "data": {
            "text/html": "'logical'",
            "text/latex": "'logical'",
            "text/markdown": "'logical'",
            "text/plain": "[1] \"logical\""
          },
          "metadata": {},
          "output_type": "display_data"
        },
        {
          "data": {
            "text/html": "'numeric'",
            "text/latex": "'numeric'",
            "text/markdown": "'numeric'",
            "text/plain": "[1] \"numeric\""
          },
          "metadata": {},
          "output_type": "display_data"
        },
        {
          "data": {
            "text/html": "'character'",
            "text/latex": "'character'",
            "text/markdown": "'character'",
            "text/plain": "[1] \"character\""
          },
          "metadata": {},
          "output_type": "display_data"
        }
      ]
    },
    {
      "metadata": {
        "trusted": false
      },
      "cell_type": "code",
      "source": "length(a)\nlength(b)\nlength(c)",
      "execution_count": 100,
      "outputs": [
        {
          "data": {
            "text/html": "3",
            "text/latex": "3",
            "text/markdown": "3",
            "text/plain": "[1] 3"
          },
          "metadata": {},
          "output_type": "display_data"
        },
        {
          "data": {
            "text/html": "4",
            "text/latex": "4",
            "text/markdown": "4",
            "text/plain": "[1] 4"
          },
          "metadata": {},
          "output_type": "display_data"
        },
        {
          "data": {
            "text/html": "3",
            "text/latex": "3",
            "text/markdown": "3",
            "text/plain": "[1] 3"
          },
          "metadata": {},
          "output_type": "display_data"
        }
      ]
    },
    {
      "metadata": {},
      "cell_type": "markdown",
      "source": "En caso de escribir valores de diferentes tipos se homogeniza con la clase más flexible. El orden de flexibilidad es: character, numeric y logical."
    },
    {
      "metadata": {
        "trusted": false
      },
      "cell_type": "code",
      "source": "d <- c(1,2,TRUE,FALSE,TRUE,5) #TRUE: 1 , FALSE: 0\ne <- c(1,2,TRUE,\"hola\")\nprint(d)\nprint(e)",
      "execution_count": 65,
      "outputs": [
        {
          "name": "stdout",
          "output_type": "stream",
          "text": "[1] 1 2 1 0 1 5\n[1] \"1\"    \"2\"    \"TRUE\" \"hola\"\n"
        }
      ]
    },
    {
      "metadata": {
        "trusted": false
      },
      "cell_type": "code",
      "source": "class(d)\nclass(e)",
      "execution_count": 66,
      "outputs": [
        {
          "data": {
            "text/html": "'numeric'",
            "text/latex": "'numeric'",
            "text/markdown": "'numeric'",
            "text/plain": "[1] \"numeric\""
          },
          "metadata": {},
          "output_type": "display_data"
        },
        {
          "data": {
            "text/html": "'character'",
            "text/latex": "'character'",
            "text/markdown": "'character'",
            "text/plain": "[1] \"character\""
          },
          "metadata": {},
          "output_type": "display_data"
        }
      ]
    },
    {
      "metadata": {},
      "cell_type": "markdown",
      "source": "También se puede unir vectores con <code>c()</code>"
    },
    {
      "metadata": {
        "trusted": false
      },
      "cell_type": "code",
      "source": "f <- c(d,e)\nprint(f)",
      "execution_count": 67,
      "outputs": [
        {
          "name": "stdout",
          "output_type": "stream",
          "text": " [1] \"1\"    \"2\"    \"1\"    \"0\"    \"1\"    \"5\"    \"1\"    \"2\"    \"TRUE\" \"hola\"\n"
        }
      ]
    },
    {
      "metadata": {
        "trusted": false
      },
      "cell_type": "code",
      "source": "g <- 1:10\nh <- 10:1\n\nprint(g)\nprint(h)",
      "execution_count": 69,
      "outputs": [
        {
          "name": "stdout",
          "output_type": "stream",
          "text": " [1]  1  2  3  4  5  6  7  8  9 10\n [1] 10  9  8  7  6  5  4  3  2  1\n"
        }
      ]
    },
    {
      "metadata": {
        "trusted": false
      },
      "cell_type": "code",
      "source": "g[2]\nh[2]",
      "execution_count": 70,
      "outputs": [
        {
          "data": {
            "text/html": "2",
            "text/latex": "2",
            "text/markdown": "2",
            "text/plain": "[1] 2"
          },
          "metadata": {},
          "output_type": "display_data"
        },
        {
          "data": {
            "text/html": "9",
            "text/latex": "9",
            "text/markdown": "9",
            "text/plain": "[1] 9"
          },
          "metadata": {},
          "output_type": "display_data"
        }
      ]
    },
    {
      "metadata": {
        "trusted": false
      },
      "cell_type": "code",
      "source": "i <- seq(4,6,0.5)\n\nprint(i)",
      "execution_count": 71,
      "outputs": [
        {
          "name": "stdout",
          "output_type": "stream",
          "text": "[1] 4.0 4.5 5.0 5.5 6.0\n"
        }
      ]
    },
    {
      "metadata": {
        "trusted": false
      },
      "cell_type": "code",
      "source": "#segundo elemento\nprint(i[2])\n\n#todo el vector excepto el segundo elemento\nprint(i[-2])\n\n#del segundo al cuarto elemeto\nprint(i[2:4])\n\n#el elemento 1 y 4\nprint(i[c(1,4)])",
      "execution_count": 88,
      "outputs": [
        {
          "name": "stdout",
          "output_type": "stream",
          "text": "[1] 4.5\n[1] 4.0 5.0 5.5 6.0\n[1] 4.5 5.0 5.5\n[1] 4.0 5.5\n"
        }
      ]
    },
    {
      "metadata": {
        "trusted": false
      },
      "cell_type": "code",
      "source": "i[2] <- 517\nprint(i)",
      "execution_count": 95,
      "outputs": [
        {
          "name": "stdout",
          "output_type": "stream",
          "text": "[1]   4.0 517.0   5.0   5.5   6.0\n"
        }
      ]
    },
    {
      "metadata": {
        "trusted": false
      },
      "cell_type": "code",
      "source": "j <- 1:5\nh <- 1:5",
      "execution_count": null,
      "outputs": []
    },
    {
      "metadata": {},
      "cell_type": "markdown",
      "source": "### 3.2 Matrices\n\nLas matrices son una estructura de datos bidimensionales, poseen largo y alto. Al igual que un vector, únicamente pueden contener datos de un sólo tipo, es decir son atómicos."
    },
    {
      "metadata": {
        "trusted": false
      },
      "cell_type": "code",
      "source": "a <- 1:10 \nprint(a)",
      "execution_count": 96,
      "outputs": [
        {
          "name": "stdout",
          "output_type": "stream",
          "text": " [1]  1  2  3  4  5  6  7  8  9 10\n"
        }
      ]
    },
    {
      "metadata": {
        "trusted": false
      },
      "cell_type": "code",
      "source": "b <- matrix(a)\nprint(b)",
      "execution_count": 41,
      "outputs": [
        {
          "name": "stdout",
          "output_type": "stream",
          "text": "      [,1]\n [1,]    1\n [2,]    2\n [3,]    3\n [4,]    4\n [5,]    5\n [6,]    6\n [7,]    7\n [8,]    8\n [9,]    9\n[10,]   10\n"
        }
      ]
    },
    {
      "metadata": {
        "trusted": false
      },
      "cell_type": "code",
      "source": "nrow(b)\nncol(b)\ndim(b)",
      "execution_count": 42,
      "outputs": [
        {
          "data": {
            "text/html": "10",
            "text/latex": "10",
            "text/markdown": "10",
            "text/plain": "[1] 10"
          },
          "metadata": {},
          "output_type": "display_data"
        },
        {
          "data": {
            "text/html": "1",
            "text/latex": "1",
            "text/markdown": "1",
            "text/plain": "[1] 1"
          },
          "metadata": {},
          "output_type": "display_data"
        },
        {
          "data": {
            "text/html": "<ol class=list-inline>\n\t<li>10</li>\n\t<li>1</li>\n</ol>\n",
            "text/latex": "\\begin{enumerate*}\n\\item 10\n\\item 1\n\\end{enumerate*}\n",
            "text/markdown": "1. 10\n2. 1\n\n\n",
            "text/plain": "[1] 10  1"
          },
          "metadata": {},
          "output_type": "display_data"
        }
      ]
    },
    {
      "metadata": {
        "trusted": false
      },
      "cell_type": "code",
      "source": "c <- matrix(a,nrow=2)\nprint(c)",
      "execution_count": 100,
      "outputs": [
        {
          "name": "stdout",
          "output_type": "stream",
          "text": "     [,1] [,2] [,3] [,4] [,5]\n[1,]    1    3    5    7    9\n[2,]    2    4    6    8   10\n"
        }
      ]
    },
    {
      "metadata": {
        "trusted": false
      },
      "cell_type": "code",
      "source": "d <- matrix(a,ncol=2)\nprint(d)",
      "execution_count": 44,
      "outputs": [
        {
          "name": "stdout",
          "output_type": "stream",
          "text": "     [,1] [,2]\n[1,]    1    6\n[2,]    2    7\n[3,]    3    8\n[4,]    4    9\n[5,]    5   10\n"
        }
      ]
    },
    {
      "metadata": {
        "trusted": false
      },
      "cell_type": "code",
      "source": "e <- matrix(a,ncol=2, byrow=TRUE)\nprint(e)",
      "execution_count": 106,
      "outputs": [
        {
          "name": "stdout",
          "output_type": "stream",
          "text": "     [,1] [,2]\n[1,]    1    2\n[2,]    3    4\n[3,]    5    6\n[4,]    7    8\n[5,]    9   10\n"
        }
      ]
    },
    {
      "metadata": {
        "trusted": false
      },
      "cell_type": "code",
      "source": "class(b)\nclass(c)\nclass(d)\nclass(e)",
      "execution_count": 46,
      "outputs": [
        {
          "data": {
            "text/html": "'matrix'",
            "text/latex": "'matrix'",
            "text/markdown": "'matrix'",
            "text/plain": "[1] \"matrix\""
          },
          "metadata": {},
          "output_type": "display_data"
        },
        {
          "data": {
            "text/html": "'matrix'",
            "text/latex": "'matrix'",
            "text/markdown": "'matrix'",
            "text/plain": "[1] \"matrix\""
          },
          "metadata": {},
          "output_type": "display_data"
        },
        {
          "data": {
            "text/html": "'matrix'",
            "text/latex": "'matrix'",
            "text/markdown": "'matrix'",
            "text/plain": "[1] \"matrix\""
          },
          "metadata": {},
          "output_type": "display_data"
        },
        {
          "data": {
            "text/html": "'matrix'",
            "text/latex": "'matrix'",
            "text/markdown": "'matrix'",
            "text/plain": "[1] \"matrix\""
          },
          "metadata": {},
          "output_type": "display_data"
        }
      ]
    },
    {
      "metadata": {
        "trusted": false
      },
      "cell_type": "code",
      "source": "f <- c(1,1,1)\ng <- c(0,0,0)\n\nh <- rbind(f,g)\nprint(h)\nclass(h)",
      "execution_count": 104,
      "outputs": [
        {
          "name": "stdout",
          "output_type": "stream",
          "text": "  [,1] [,2] [,3]\nf    1    1    1\ng    0    0    0\n"
        },
        {
          "data": {
            "text/html": "'matrix'",
            "text/latex": "'matrix'",
            "text/markdown": "'matrix'",
            "text/plain": "[1] \"matrix\""
          },
          "metadata": {},
          "output_type": "display_data"
        }
      ]
    },
    {
      "metadata": {
        "trusted": false
      },
      "cell_type": "code",
      "source": "i <- cbind(f,g)\n\nprint(i)\nclass(i)",
      "execution_count": 102,
      "outputs": [
        {
          "name": "stdout",
          "output_type": "stream",
          "text": "     f g\n[1,] 1 0\n[2,] 1 0\n[3,] 1 0\n"
        },
        {
          "data": {
            "text/html": "'matrix'",
            "text/latex": "'matrix'",
            "text/markdown": "'matrix'",
            "text/plain": "[1] \"matrix\""
          },
          "metadata": {},
          "output_type": "display_data"
        }
      ]
    },
    {
      "metadata": {
        "trusted": false
      },
      "cell_type": "code",
      "source": "print(e)",
      "execution_count": 107,
      "outputs": [
        {
          "name": "stdout",
          "output_type": "stream",
          "text": "     [,1] [,2]\n[1,]    1    2\n[2,]    3    4\n[3,]    5    6\n[4,]    7    8\n[5,]    9   10\n"
        }
      ]
    },
    {
      "metadata": {
        "trusted": false
      },
      "cell_type": "code",
      "source": "#elemento de segunda fila y segunda columna\nprint(e[2,2])",
      "execution_count": 73,
      "outputs": [
        {
          "name": "stdout",
          "output_type": "stream",
          "text": "[1] 4\n"
        }
      ]
    },
    {
      "metadata": {
        "trusted": false
      },
      "cell_type": "code",
      "source": "#segunda fila\nprint(e[2,])",
      "execution_count": 110,
      "outputs": [
        {
          "name": "stdout",
          "output_type": "stream",
          "text": "[1] 3 4\n"
        }
      ]
    },
    {
      "metadata": {
        "trusted": false
      },
      "cell_type": "code",
      "source": "#segunda columna\nprint(e[,2])",
      "execution_count": 72,
      "outputs": [
        {
          "name": "stdout",
          "output_type": "stream",
          "text": "[1]  2  4  6  8 10\n"
        }
      ]
    },
    {
      "metadata": {
        "trusted": false
      },
      "cell_type": "code",
      "source": "#toda la matriz excepto la segunda fila\nprint(e[-2,])",
      "execution_count": 74,
      "outputs": [
        {
          "name": "stdout",
          "output_type": "stream",
          "text": "     [,1] [,2]\n[1,]    1    2\n[2,]    5    6\n[3,]    7    8\n[4,]    9   10\n"
        }
      ]
    },
    {
      "metadata": {},
      "cell_type": "markdown",
      "source": "### 3.3 Listas\nLas listas, al igual que los vectores, son estructuras de datos unidimensionales, sólo tienen largo, pero a diferencia de los vectores cada uno de sus elementos puede ser de diferente tipo o incluso de diferente clase, por lo que son estructuras heterogéneas."
    },
    {
      "metadata": {
        "trusted": false
      },
      "cell_type": "code",
      "source": "a <- c(2,TRUE,\"hola\")\nprint(a)",
      "execution_count": 116,
      "outputs": [
        {
          "name": "stdout",
          "output_type": "stream",
          "text": "[1] \"2\"    \"TRUE\" \"hola\"\n"
        }
      ]
    },
    {
      "metadata": {
        "trusted": false
      },
      "cell_type": "code",
      "source": "b <- list(2,TRUE,\"hola\")\nprint(b)",
      "execution_count": 115,
      "outputs": [
        {
          "name": "stdout",
          "output_type": "stream",
          "text": "[[1]]\n[1] 2\n\n[[2]]\n[1] TRUE\n\n[[3]]\n[1] \"hola\"\n\n"
        }
      ]
    },
    {
      "metadata": {
        "trusted": false
      },
      "cell_type": "code",
      "source": "c <- list(2,TRUE,\"hola\",c(5,7,9))\nprint(c)",
      "execution_count": 117,
      "outputs": [
        {
          "name": "stdout",
          "output_type": "stream",
          "text": "[[1]]\n[1] 2\n\n[[2]]\n[1] TRUE\n\n[[3]]\n[1] \"hola\"\n\n[[4]]\n[1] 5 7 9\n\n"
        }
      ]
    },
    {
      "metadata": {
        "scrolled": true,
        "trusted": false
      },
      "cell_type": "code",
      "source": "vectorNumerico <- c(1,2,3)\nvectorChar <- c(\"hola\",\"chau\")\nmatriz <- matrix(1:9,nrow=3, byrow=TRUE)\ndummy <- TRUE\n\na <- list(vectorNumerico, vectorChar, matriz, dummy)\nprint(a)",
      "execution_count": 131,
      "outputs": [
        {
          "name": "stdout",
          "output_type": "stream",
          "text": "[[1]]\n[1] 1 2 3\n\n[[2]]\n[1] \"hola\" \"chau\"\n\n[[3]]\n     [,1] [,2] [,3]\n[1,]    1    2    3\n[2,]    4    5    6\n[3,]    7    8    9\n\n[[4]]\n[1] TRUE\n\n"
        }
      ]
    },
    {
      "metadata": {
        "trusted": false
      },
      "cell_type": "code",
      "source": "b <- list(\"vector1\"=vectorNumerico, \"vector2\"=vectorChar, \"matriz\"=matriz, \"dummy\"=dummy)\nprint(b)",
      "execution_count": 132,
      "outputs": [
        {
          "name": "stdout",
          "output_type": "stream",
          "text": "$vector1\n[1] 1 2 3\n\n$vector2\n[1] \"hola\" \"chau\"\n\n$matriz\n     [,1] [,2] [,3]\n[1,]    1    2    3\n[2,]    4    5    6\n[3,]    7    8    9\n\n$dummy\n[1] TRUE\n\n"
        }
      ]
    },
    {
      "metadata": {
        "trusted": false
      },
      "cell_type": "code",
      "source": "a[2]",
      "execution_count": 133,
      "outputs": [
        {
          "data": {
            "text/html": "<ol>\n\t<li><ol class=list-inline>\n\t<li>'hola'</li>\n\t<li>'chau'</li>\n</ol>\n</li>\n</ol>\n",
            "text/latex": "\\begin{enumerate}\n\\item \\begin{enumerate*}\n\\item 'hola'\n\\item 'chau'\n\\end{enumerate*}\n\n\\end{enumerate}\n",
            "text/markdown": "1. 1. 'hola'\n2. 'chau'\n\n\n\n\n\n",
            "text/plain": "[[1]]\n[1] \"hola\" \"chau\"\n"
          },
          "metadata": {},
          "output_type": "display_data"
        }
      ]
    },
    {
      "metadata": {
        "trusted": false
      },
      "cell_type": "code",
      "source": "b$vector2\nb[2]\nprint(b$matriz)",
      "execution_count": 134,
      "outputs": [
        {
          "data": {
            "text/html": "<ol class=list-inline>\n\t<li>'hola'</li>\n\t<li>'chau'</li>\n</ol>\n",
            "text/latex": "\\begin{enumerate*}\n\\item 'hola'\n\\item 'chau'\n\\end{enumerate*}\n",
            "text/markdown": "1. 'hola'\n2. 'chau'\n\n\n",
            "text/plain": "[1] \"hola\" \"chau\""
          },
          "metadata": {},
          "output_type": "display_data"
        },
        {
          "data": {
            "text/html": "<strong>$vector2</strong> = <ol class=list-inline>\n\t<li>'hola'</li>\n\t<li>'chau'</li>\n</ol>\n",
            "text/latex": "\\textbf{\\$vector2} = \\begin{enumerate*}\n\\item 'hola'\n\\item 'chau'\n\\end{enumerate*}\n",
            "text/markdown": "**$vector2** = 1. 'hola'\n2. 'chau'\n\n\n",
            "text/plain": "$vector2\n[1] \"hola\" \"chau\"\n"
          },
          "metadata": {},
          "output_type": "display_data"
        },
        {
          "name": "stdout",
          "output_type": "stream",
          "text": "     [,1] [,2] [,3]\n[1,]    1    2    3\n[2,]    4    5    6\n[3,]    7    8    9\n"
        }
      ]
    },
    {
      "metadata": {
        "trusted": false
      },
      "cell_type": "code",
      "source": "names(a)\nnames(b)",
      "execution_count": 135,
      "outputs": [
        {
          "data": {
            "text/plain": "NULL"
          },
          "metadata": {},
          "output_type": "display_data"
        },
        {
          "data": {
            "text/html": "<ol class=list-inline>\n\t<li>'vector1'</li>\n\t<li>'vector2'</li>\n\t<li>'matriz'</li>\n\t<li>'dummy'</li>\n</ol>\n",
            "text/latex": "\\begin{enumerate*}\n\\item 'vector1'\n\\item 'vector2'\n\\item 'matriz'\n\\item 'dummy'\n\\end{enumerate*}\n",
            "text/markdown": "1. 'vector1'\n2. 'vector2'\n3. 'matriz'\n4. 'dummy'\n\n\n",
            "text/plain": "[1] \"vector1\" \"vector2\" \"matriz\"  \"dummy\"  "
          },
          "metadata": {},
          "output_type": "display_data"
        }
      ]
    },
    {
      "metadata": {
        "trusted": false
      },
      "cell_type": "code",
      "source": "names(a) <- c(\"vector1\",\"vector2\",\"matriz\",\"dummy\")\nprint(a)",
      "execution_count": 136,
      "outputs": [
        {
          "name": "stdout",
          "output_type": "stream",
          "text": "$vector1\n[1] 1 2 3\n\n$vector2\n[1] \"hola\" \"chau\"\n\n$matriz\n     [,1] [,2] [,3]\n[1,]    1    2    3\n[2,]    4    5    6\n[3,]    7    8    9\n\n$dummy\n[1] TRUE\n\n"
        }
      ]
    },
    {
      "metadata": {
        "trusted": false
      },
      "cell_type": "code",
      "source": "a$nuevo <- \"Hola mundo\"\nprint(a)",
      "execution_count": 137,
      "outputs": [
        {
          "name": "stdout",
          "output_type": "stream",
          "text": "$vector1\n[1] 1 2 3\n\n$vector2\n[1] \"hola\" \"chau\"\n\n$matriz\n     [,1] [,2] [,3]\n[1,]    1    2    3\n[2,]    4    5    6\n[3,]    7    8    9\n\n$dummy\n[1] TRUE\n\n$nuevo\n[1] \"Hola mundo\"\n\n"
        }
      ]
    },
    {
      "metadata": {
        "trusted": false
      },
      "cell_type": "code",
      "source": "a[6] <- list(c(5,6))\nprint(a)",
      "execution_count": 138,
      "outputs": [
        {
          "name": "stdout",
          "output_type": "stream",
          "text": "$vector1\n[1] 1 2 3\n\n$vector2\n[1] \"hola\" \"chau\"\n\n$matriz\n     [,1] [,2] [,3]\n[1,]    1    2    3\n[2,]    4    5    6\n[3,]    7    8    9\n\n$dummy\n[1] TRUE\n\n$nuevo\n[1] \"Hola mundo\"\n\n[[6]]\n[1] 5 6\n\n"
        }
      ]
    },
    {
      "metadata": {
        "trusted": false
      },
      "cell_type": "code",
      "source": "names(a)",
      "execution_count": 139,
      "outputs": [
        {
          "data": {
            "text/html": "<ol class=list-inline>\n\t<li>'vector1'</li>\n\t<li>'vector2'</li>\n\t<li>'matriz'</li>\n\t<li>'dummy'</li>\n\t<li>'nuevo'</li>\n\t<li>''</li>\n</ol>\n",
            "text/latex": "\\begin{enumerate*}\n\\item 'vector1'\n\\item 'vector2'\n\\item 'matriz'\n\\item 'dummy'\n\\item 'nuevo'\n\\item ''\n\\end{enumerate*}\n",
            "text/markdown": "1. 'vector1'\n2. 'vector2'\n3. 'matriz'\n4. 'dummy'\n5. 'nuevo'\n6. ''\n\n\n",
            "text/plain": "[1] \"vector1\" \"vector2\" \"matriz\"  \"dummy\"   \"nuevo\"   \"\"       "
          },
          "metadata": {},
          "output_type": "display_data"
        }
      ]
    },
    {
      "metadata": {},
      "cell_type": "markdown",
      "source": "### 3.3 Data frames\nEl origen del data frame proviene de una intensa investigación empírica en el mundo del software estadístico. En particular, es una estructura de datos en R donde hay observaciones o registros (filas) y variables o campos (columnas).\n\nSe utiliza un data frame para almacenar tablas de datos, los vectores que están contenidos en forma de una lista en un marco de datos son de igual longitud."
    },
    {
      "metadata": {
        "trusted": false
      },
      "cell_type": "code",
      "source": "vector1 <- c(\"Armando\", \"Elsa\", \"Ignacio\", \"Olga\")\nvector2 <- c(20, 24, 22, 30)\nvector3 <- c(\"Hombre\", \"Mujer\", \"Hombre\", \"Mujer\")\n\n\ndataEstructurada <- data.frame(\"nombres\"= vector1, \"edad\" = vector2, \"sexo\"= vector3)\ndataEstructurada #printeo Jupyter\nprint(dataEstructurada) #printeo R",
      "execution_count": 144,
      "outputs": [
        {
          "data": {
            "text/html": "<table>\n<thead><tr><th scope=col>nombres</th><th scope=col>edad</th><th scope=col>sexo</th></tr></thead>\n<tbody>\n\t<tr><td>Armando</td><td>20     </td><td>Hombre </td></tr>\n\t<tr><td>Elsa   </td><td>24     </td><td>Mujer  </td></tr>\n\t<tr><td>Ignacio</td><td>22     </td><td>Hombre </td></tr>\n\t<tr><td>Olga   </td><td>30     </td><td>Mujer  </td></tr>\n</tbody>\n</table>\n",
            "text/latex": "\\begin{tabular}{r|lll}\n nombres & edad & sexo\\\\\n\\hline\n\t Armando & 20      & Hombre \\\\\n\t Elsa    & 24      & Mujer  \\\\\n\t Ignacio & 22      & Hombre \\\\\n\t Olga    & 30      & Mujer  \\\\\n\\end{tabular}\n",
            "text/markdown": "\n| nombres | edad | sexo |\n|---|---|---|\n| Armando | 20      | Hombre  |\n| Elsa    | 24      | Mujer   |\n| Ignacio | 22      | Hombre  |\n| Olga    | 30      | Mujer   |\n\n",
            "text/plain": "  nombres edad sexo  \n1 Armando 20   Hombre\n2 Elsa    24   Mujer \n3 Ignacio 22   Hombre\n4 Olga    30   Mujer "
          },
          "metadata": {},
          "output_type": "display_data"
        },
        {
          "name": "stdout",
          "output_type": "stream",
          "text": "  nombres edad   sexo\n1 Armando   20 Hombre\n2    Elsa   24  Mujer\n3 Ignacio   22 Hombre\n4    Olga   30  Mujer\n"
        }
      ]
    },
    {
      "metadata": {
        "trusted": false
      },
      "cell_type": "code",
      "source": "names(dataEstructurada)",
      "execution_count": 145,
      "outputs": [
        {
          "data": {
            "text/html": "<ol class=list-inline>\n\t<li>'nombres'</li>\n\t<li>'edad'</li>\n\t<li>'sexo'</li>\n</ol>\n",
            "text/latex": "\\begin{enumerate*}\n\\item 'nombres'\n\\item 'edad'\n\\item 'sexo'\n\\end{enumerate*}\n",
            "text/markdown": "1. 'nombres'\n2. 'edad'\n3. 'sexo'\n\n\n",
            "text/plain": "[1] \"nombres\" \"edad\"    \"sexo\"   "
          },
          "metadata": {},
          "output_type": "display_data"
        }
      ]
    },
    {
      "metadata": {
        "trusted": false
      },
      "cell_type": "code",
      "source": "print(dataEstructurada$sexo)",
      "execution_count": 146,
      "outputs": [
        {
          "name": "stdout",
          "output_type": "stream",
          "text": "[1] Hombre Mujer  Hombre Mujer \nLevels: Hombre Mujer\n"
        }
      ]
    },
    {
      "metadata": {
        "trusted": false
      },
      "cell_type": "code",
      "source": "print(dataEstructurada[3])",
      "execution_count": 147,
      "outputs": [
        {
          "name": "stdout",
          "output_type": "stream",
          "text": "    sexo\n1 Hombre\n2  Mujer\n3 Hombre\n4  Mujer\n"
        }
      ]
    },
    {
      "metadata": {
        "trusted": false
      },
      "cell_type": "code",
      "source": "print(dataEstructurada[2,])",
      "execution_count": 148,
      "outputs": [
        {
          "name": "stdout",
          "output_type": "stream",
          "text": "  nombres edad  sexo\n2    Elsa   24 Mujer\n"
        }
      ]
    },
    {
      "metadata": {
        "trusted": false
      },
      "cell_type": "code",
      "source": "print(dataEstructurada[-2,])",
      "execution_count": 149,
      "outputs": [
        {
          "name": "stdout",
          "output_type": "stream",
          "text": "  nombres edad   sexo\n1 Armando   20 Hombre\n3 Ignacio   22 Hombre\n4    Olga   30  Mujer\n"
        }
      ]
    },
    {
      "metadata": {
        "trusted": false
      },
      "cell_type": "code",
      "source": "print(dataEstructurada[2:3,])",
      "execution_count": 150,
      "outputs": [
        {
          "name": "stdout",
          "output_type": "stream",
          "text": "  nombres edad   sexo\n2    Elsa   24  Mujer\n3 Ignacio   22 Hombre\n"
        }
      ]
    },
    {
      "metadata": {
        "trusted": false
      },
      "cell_type": "code",
      "source": "str(dataEstructurada)",
      "execution_count": 151,
      "outputs": [
        {
          "name": "stdout",
          "output_type": "stream",
          "text": "'data.frame':\t4 obs. of  3 variables:\n $ nombres: Factor w/ 4 levels \"Armando\",\"Elsa\",..: 1 2 3 4\n $ edad   : num  20 24 22 30\n $ sexo   : Factor w/ 2 levels \"Hombre\",\"Mujer\": 1 2 1 2\n"
        }
      ]
    },
    {
      "metadata": {
        "trusted": false
      },
      "cell_type": "code",
      "source": "dim(dataEstructurada)\nnrow(dataEstructurada)\nncol(dataEstructurada)",
      "execution_count": 32,
      "outputs": [
        {
          "data": {
            "text/html": "<ol class=list-inline>\n\t<li>4</li>\n\t<li>3</li>\n</ol>\n",
            "text/latex": "\\begin{enumerate*}\n\\item 4\n\\item 3\n\\end{enumerate*}\n",
            "text/markdown": "1. 4\n2. 3\n\n\n",
            "text/plain": "[1] 4 3"
          },
          "metadata": {},
          "output_type": "display_data"
        },
        {
          "data": {
            "text/html": "4",
            "text/latex": "4",
            "text/markdown": "4",
            "text/plain": "[1] 4"
          },
          "metadata": {},
          "output_type": "display_data"
        },
        {
          "data": {
            "text/html": "3",
            "text/latex": "3",
            "text/markdown": "3",
            "text/plain": "[1] 3"
          },
          "metadata": {},
          "output_type": "display_data"
        }
      ]
    },
    {
      "metadata": {
        "trusted": false
      },
      "cell_type": "code",
      "source": "summary(dataEstructurada)",
      "execution_count": 152,
      "outputs": [
        {
          "data": {
            "text/plain": "    nombres       edad          sexo  \n Armando:1   Min.   :20.0   Hombre:2  \n Elsa   :1   1st Qu.:21.5   Mujer :2  \n Ignacio:1   Median :23.0             \n Olga   :1   Mean   :24.0             \n             3rd Qu.:25.5             \n             Max.   :30.0             "
          },
          "metadata": {},
          "output_type": "display_data"
        }
      ]
    }
  ],
  "metadata": {
    "kernelspec": {
      "name": "r",
      "display_name": "R",
      "language": "R"
    },
    "language_info": {
      "mimetype": "text/x-r-source",
      "name": "R",
      "pygments_lexer": "r",
      "version": "3.5.3",
      "file_extension": ".r",
      "codemirror_mode": "r"
    }
  },
  "nbformat": 4,
  "nbformat_minor": 2
}