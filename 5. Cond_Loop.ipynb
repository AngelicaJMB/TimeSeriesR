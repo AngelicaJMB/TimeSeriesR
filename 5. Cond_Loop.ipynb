{
 "cells": [
  {
   "cell_type": "markdown",
   "metadata": {},
   "source": [
    "# Declaraciones condicionales y bucles\n",
    "\n",
    "## 1. Condicional\n",
    "Se evalúa una secuencia de código si un booleano es verdadero\n",
    "\n",
    "* Declaración ```if ... elif ... else```\n",
    "\n",
    "    Sintaxis\n",
    "    \n",
    "    ```R\n",
    "    if(condición1){\n",
    "        declaraciones(s)\n",
    "    }else if(condición2){\n",
    "        declaraciones(s)\n",
    "    }else{\n",
    "        declaraciones(s)\n",
    "    }\n",
    "    ```\n",
    "    \n",
    "    Sintaxis alternativa: declaraciones cortas de una sola linea\n",
    "    \n",
    "    ```python\n",
    "if (condición) declaración else declaración\n",
    "    ```\n",
    "\n",
    "\n",
    "Ejemplo:"
   ]
  },
  {
   "cell_type": "code",
   "execution_count": null,
   "metadata": {},
   "outputs": [],
   "source": [
    "a <- readline(prompt=\"Ingresa un número entero: \")"
   ]
  },
  {
   "cell_type": "code",
   "execution_count": null,
   "metadata": {},
   "outputs": [],
   "source": [
    "print(a)\n",
    "print(class(a))"
   ]
  },
  {
   "cell_type": "code",
   "execution_count": null,
   "metadata": {},
   "outputs": [],
   "source": [
    "a <- as.numeric(a)\n",
    "print(a)\n",
    "print(class(a))"
   ]
  },
  {
   "cell_type": "code",
   "execution_count": null,
   "metadata": {},
   "outputs": [],
   "source": [
    "IsRound <- a - round(a)==0\n",
    "IsEven <- a %% 2 ==0"
   ]
  },
  {
   "cell_type": "code",
   "execution_count": null,
   "metadata": {},
   "outputs": [],
   "source": [
    "if(IsRound & IsEven){\n",
    "    print(\"El número elegido es par\")\n",
    "}else if(IsRound & !(IsEven)){\n",
    "    print(\"El número elegido es impar\")\n",
    "}else{\n",
    "    print(\"El número elegido no es entero\")\n",
    "}"
   ]
  },
  {
   "cell_type": "code",
   "execution_count": null,
   "metadata": {},
   "outputs": [],
   "source": [
    "#Ejercicio: Convertir a función"
   ]
  },
  {
   "cell_type": "markdown",
   "metadata": {},
   "source": [
    "## 2. Bucles\n",
    "\n",
    "### 2.1 Bucles definidos:\n",
    "\n",
    "Los límites son conocidos antes de inicializar el bucle\n",
    "    \n",
    "* Declaración: ```for loop```\n",
    "    \n",
    "    Sintaxis\n",
    "    \n",
    "    ```R \n",
    "    for (variable in vector) {\n",
    "        declaraciones(variable)\n",
    "    }\n",
    "    ```\n",
    "Nota: Por lo general las declaraciones depende de la variable\n",
    "    \n",
    "Ejemplo:\n",
    "    \n",
    "Imprimir la suma acumulada de enteros entre 0 y 5"
   ]
  },
  {
   "cell_type": "code",
   "execution_count": null,
   "metadata": {},
   "outputs": [],
   "source": [
    "suma <- 0\n",
    "for(ii in 0:5){\n",
    "    suma <- suma + ii\n",
    "}\n",
    "\n",
    "print(suma)"
   ]
  },
  {
   "cell_type": "markdown",
   "metadata": {},
   "source": [
    "### 2.2 Bucles indefinidos:\n",
    "    \n",
    "Los limites no son conocidos antes de inicializar el bucle.\n",
    "    \n",
    "* Declaración: ```while```\n",
    "    \n",
    "    Sintaxis\n",
    "        ```R \n",
    "        while (condition) {\n",
    "            declaraciones\n",
    "        }\n",
    "        ```\n",
    "    Ejemplo:\n",
    "\n",
    "La aproximación de Taylor de $\\exp(x)$ es\n",
    "   \n",
    "$$\\exp(x) = 1 + x + \\frac{x^2}{2!} + \\frac{x^3}{3!} + \\frac{x^4}{4!} + ...$$\n",
    "\n",
    "escriba un programa para calcular el orden mínimo aproximado de manera que la aproximación de $\\exp(x)$ sea precisa hasta el sexto decimal"
   ]
  },
  {
   "cell_type": "code",
   "execution_count": null,
   "metadata": {},
   "outputs": [],
   "source": [
    "appr.e <- 1 #punto de inicio \n",
    "aux <- 0 #número anterior\n",
    "tolerancia <- 10e-6\n",
    "ii <- 0 #iterador\n",
    "x <- 1 #exp(x)\n",
    "\n",
    "fctl <- 1 #factorial, se puede usar factorial(x) pero nos ahorramos tiempo computaciaonal\n",
    "\n",
    "\n",
    "while(appr.e - aux > tolerancia){\n",
    "    ii <- ii + 1 \n",
    "    fctl <- fctl * ii\n",
    "    aux <- appr.e\n",
    "    appr.e <- appr.e + x ^ ii /  fctl\n",
    "}"
   ]
  },
  {
   "cell_type": "code",
   "execution_count": null,
   "metadata": {},
   "outputs": [],
   "source": [
    "print(appr.e)\n",
    "print(ii)\n",
    "print(exp(1))"
   ]
  },
  {
   "cell_type": "code",
   "execution_count": null,
   "metadata": {},
   "outputs": [],
   "source": [
    "#Ejercicio: recrear función exp(x)"
   ]
  }
 ],
 "metadata": {
  "kernelspec": {
   "display_name": "R",
   "language": "R",
   "name": "ir"
  },
  "language_info": {
   "codemirror_mode": "r",
   "file_extension": ".r",
   "mimetype": "text/x-r-source",
   "name": "R",
   "pygments_lexer": "r",
   "version": "3.5.3"
  }
 },
 "nbformat": 4,
 "nbformat_minor": 2
}
