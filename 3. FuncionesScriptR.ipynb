{
  "cells": [
    {
      "metadata": {},
      "cell_type": "markdown",
      "source": "# Funciones y Scripts \n\n## 1. Funciones\nLa instalación base de R tiene suficientes funciones para que realicemos todas las tareas básicas. Sin embargo, es comun que necesitemos realizar tareas para las que no existen una funciones específicas.\n\nLas funciones tienen la estructura\n\n```R\n    nombre_funcion <- function(argumentos){\n        expresion\n        return(salida)\n    }\n```\n\ndonde\n- **nombre_funcion**: es el nombre arbitrario que designamos a la función\n- **function**: palabra reservada para crear funciones en R\n- **argumentos**: son los inputs o entradas\n- **expresion**: es el codigo a ejercutarse\n- **return**: palabra reservada para asignar la output o salida\n- **salida**: es el output o salida\n\n\nSe ejercuta con  <code> nombre_funcion(argumentos) </code>"
    },
    {
      "metadata": {},
      "cell_type": "markdown",
      "source": "Podemoss no tener argumentos ni <code>return()</code>"
    },
    {
      "metadata": {
        "trusted": true
      },
      "cell_type": "code",
      "source": "saludo <- function(){\n    print(\"buenos dias\")\n}",
      "execution_count": null,
      "outputs": []
    },
    {
      "metadata": {},
      "cell_type": "markdown",
      "source": "Para llamar a la función se hace"
    },
    {
      "metadata": {
        "trusted": true
      },
      "cell_type": "code",
      "source": "saludo()\nsaludo()",
      "execution_count": null,
      "outputs": []
    },
    {
      "metadata": {},
      "cell_type": "markdown",
      "source": "### Ejemplo 1: Hipotenusa\n\nPara hallar la hiponeusa, $c$ ,necesitamos los valores de los catetos $a$ y $b$ tal que debe cumplir\n$$\na^2 + b^2 = c^2 \n$$\nes decir\n$$\n    c=\\sqrt{a^2 + b^2}\n$$\nimplementado en R"
    },
    {
      "metadata": {
        "trusted": true
      },
      "cell_type": "code",
      "source": "##hipotenusa segun teorema de pitagoras",
      "execution_count": null,
      "outputs": []
    },
    {
      "metadata": {
        "trusted": true
      },
      "cell_type": "code",
      "source": "#comprobar que la hipotenusa de los catetos 3 y 4 es 5",
      "execution_count": null,
      "outputs": []
    },
    {
      "metadata": {},
      "cell_type": "markdown",
      "source": "### Ejemplo 2: Diámentro, Área y Longitud de un circulo\nSi tenemos el radio, $r$, podemos obtener el diámetro, área y perímetro del circulo. El diámetro es\n$$\nD=2r\n$$\n\nel área $S$ es \n$$\nS=\\pi r^2 \n$$\n\ny el perímetro o longitud es\n$$\nL= 2 \\pi r \n$$"
    },
    {
      "metadata": {
        "trusted": true
      },
      "cell_type": "code",
      "source": "#implementar la funcion llamada circulo que tenga como argumento el radio y nos devuelva: diametro, area y longitud de arco",
      "execution_count": null,
      "outputs": []
    },
    {
      "metadata": {
        "trusted": true
      },
      "cell_type": "code",
      "source": "#ejecutar la funcion circulo con un radio 1",
      "execution_count": null,
      "outputs": []
    },
    {
      "metadata": {
        "trusted": true
      },
      "cell_type": "code",
      "source": "#asignar a la variable x los output de un circulo de radio 2. Y solo mostrar en pantalla el área del cirulo ",
      "execution_count": null,
      "outputs": []
    },
    {
      "metadata": {
        "trusted": true
      },
      "cell_type": "code",
      "source": "circulo()",
      "execution_count": null,
      "outputs": []
    },
    {
      "metadata": {},
      "cell_type": "markdown",
      "source": "### Ejemplo 3: Saludo\n\nLos argumentos no necesariamente tienen que ser obligatorios"
    },
    {
      "metadata": {
        "trusted": true
      },
      "cell_type": "code",
      "source": "#Crear la funcion saludo_personal que tenga como argumento el nombre, en caso no se ingrese nombre poner \"Usuario\". Y saludar \"hola, nombre\"",
      "execution_count": null,
      "outputs": []
    },
    {
      "metadata": {
        "trusted": true
      },
      "cell_type": "code",
      "source": "# ejecutar con tu nombre",
      "execution_count": null,
      "outputs": []
    },
    {
      "metadata": {
        "trusted": true
      },
      "cell_type": "code",
      "source": "#ejecutar sin nombre",
      "execution_count": null,
      "outputs": []
    },
    {
      "metadata": {
        "collapsed": true
      },
      "cell_type": "markdown",
      "source": "## 2. Scripts\n\nUn *script de R* es una colección de comandos en un archivo diseñado para ejecutarse como un programa. \n\n* El script puede contener funciones y codigo.\n\n```R\n#Este es un ejemplo de script: Ejemplo.R\nprint(\"hola mundo\") \n```\npodemos cargar el script mediante <code>source()</code>"
    },
    {
      "metadata": {
        "trusted": true
      },
      "cell_type": "code",
      "source": "source(\"Ejemplo.R\")",
      "execution_count": null,
      "outputs": []
    },
    {
      "metadata": {},
      "cell_type": "markdown",
      "source": "### Ejemplo 4: Función cuadrática\nCrear la función\n$$\nf(x) = x^2 +1\n$$"
    },
    {
      "metadata": {
        "trusted": true
      },
      "cell_type": "code",
      "source": "#utilziar source",
      "execution_count": null,
      "outputs": []
    },
    {
      "metadata": {
        "trusted": true
      },
      "cell_type": "code",
      "source": "# probar con el vector [1,2,3,4]\n?data.frame",
      "execution_count": null,
      "outputs": []
    },
    {
      "metadata": {
        "trusted": true
      },
      "cell_type": "code",
      "source": "",
      "execution_count": null,
      "outputs": []
    }
  ],
  "metadata": {
    "kernelspec": {
      "name": "r",
      "display_name": "R",
      "language": "R"
    },
    "language_info": {
      "mimetype": "text/x-r-source",
      "name": "R",
      "pygments_lexer": "r",
      "version": "3.5.3",
      "file_extension": ".r",
      "codemirror_mode": "r"
    }
  },
  "nbformat": 4,
  "nbformat_minor": 2
}