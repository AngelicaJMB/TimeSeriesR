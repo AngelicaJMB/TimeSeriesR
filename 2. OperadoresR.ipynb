{
  "cells": [
    {
      "metadata": {},
      "cell_type": "markdown",
      "source": "# Operadores en R\n\nLos operadores son los símbolos que le indican a R que debe realizar una tarea. Combinando datos y operadores es que logramos que R haga su trabajo.\n\nExisten operadores específicos para cada tipo de tarea. Los tipos de operadores principales son los siguientes:\n\n1. Aritméticos\n2. Relacionales\n3. Lógicos\n4. De asignación\n\nFamiliarizarnos con los operadores nos permitirá manipular y transformar datos de distintos tipos.\n\n## 1. Operadores aritméticos\nComo su nombre lo indica, este tipo de operador es usado para operaciones aritméticas.\n\nEn R tenemos los siguientes operadores aritméticos:\n\n<table>\n<thead>\n<tr>\n<th>Operador</th>\n<th>Operación</th>\n<th>Ejemplo</th>\n<th>Resultado</th>\n</tr>\n</thead>\n<tbody>\n<tr class=\"odd\">\n<td><code>+</code></td>\n<td>Suma</td>\n<td><code>5 + 3</code></td>\n<td>8</td>\n</tr>\n<tr class=\"even\">\n<td><code>-</code></td>\n<td>Resta</td>\n<td><code>5 - 3</code></td>\n<td>2</td>\n</tr>\n<tr class=\"odd\">\n<td><code> \\* </code></td>\n<td>Multiplicación</td>\n<td><code>5 \\* 3</code></td>\n<td>15</td>\n</tr>\n<tr class=\"even\">\n<td><code>/</code></td>\n<td>División</td>\n<td><code>5/3</code></td>\n<td>1.666667</td>\n</tr>\n<tr class=\"odd\">\n<td><code>^</code></td>\n<td>Potencia</td>\n<td><code>5 ^ 3</code></td>\n<td>125</td>\n</tr>\n<tr class=\"even\">\n<td><code>%/%</code></td>\n<td>División entera</td>\n<td><code>5 %/% 3</code></td>\n<td>1</td>\n</tr>\n<tr class=\"odd\">\n<td><code>%%</code></td>\n<td>Residuo</td>\n<td><code>5 %% 3</code></td>\n<td>2</td>\n</tr>\n</tbody>\n</table>"
    },
    {
      "metadata": {
        "trusted": true
      },
      "cell_type": "code",
      "source": "a <- 5\nb <- 3 \n\nc <- a * b\nd <- a / b\ne <- 5 %/% 3\nf <- TRUE + TRUE + FALSE #TRUE=1 , FALSE=0\nprint(c)\nprint(d)\nprint(e)\nprint(f)",
      "execution_count": null,
      "outputs": []
    },
    {
      "metadata": {},
      "cell_type": "markdown",
      "source": "En vectores se aplica el operador a cada elemento"
    },
    {
      "metadata": {
        "trusted": true
      },
      "cell_type": "code",
      "source": "a <-c(1,2,3)\nb <- a+2\nc <- a*2\nd <- a^0.5\n\nprint(a)\nprint(b)\nprint(c)\nprint(d)",
      "execution_count": null,
      "outputs": []
    },
    {
      "metadata": {
        "trusted": true
      },
      "cell_type": "code",
      "source": "a <- c(\"Pedro\",\"Enrique\",\"Samuel\")\nb <- c(168,175,180)\n\nnombre_estatura<-data.frame(\"nombres\"=a,\"estatura\"=b)\nnombre_estatura",
      "execution_count": null,
      "outputs": []
    },
    {
      "metadata": {
        "trusted": true
      },
      "cell_type": "code",
      "source": "#ejercicio: Pasar la estatura a metros, ejem : de 189 a 1.89\nnombre_estatura$estatura <- nombre_estatura$estatura/100\nnombre_estatura",
      "execution_count": null,
      "outputs": []
    },
    {
      "metadata": {
        "trusted": true
      },
      "cell_type": "code",
      "source": "#ejercicio: volver a  la estatura en foots, si 1m  = 3.28084 foots",
      "execution_count": null,
      "outputs": []
    },
    {
      "metadata": {},
      "cell_type": "markdown",
      "source": "## 2. Operadores Relacionales\n\nSon usados para hacer comparaciones y siempre devuelven como resultado TRUE o FALSE \n\n<table>\n<thead>\n<tr>\n<th>Operador</th>\n<th>Comparación</th>\n<th>Ejemplo</th>\n<th>Resultado</th>\n</tr>\n</thead>\n<tbody>\n<tr class=\"odd\">\n<td><code>&lt;</code></td>\n<td>Menor que</td>\n<td><code>5 &lt; 3</code></td>\n<td><code>FALSE</code></td>\n</tr>\n<tr class=\"even\">\n<td><code>&lt;=</code></td>\n<td>Menor o igual que</td>\n<td><code>5 &lt;= 3</code></td>\n<td><code>FALSE</code></td>\n</tr>\n<tr class=\"odd\">\n<td><code>&gt;</code></td>\n<td>Mayor que</td>\n<td><code>5 &gt; 3</code></td>\n<td><code>TRUE</code></td>\n</tr>\n<tr class=\"even\">\n<td><code>&gt;=</code></td>\n<td>Mayor o igual que</td>\n<td><code>5 &gt;= 3</code></td>\n<td><code>TRUE</code></td>\n</tr>\n<tr class=\"odd\">\n<td><code>==</code></td>\n<td>Exactamente igual que</td>\n<td><code>5 == 3</code></td>\n<td><code>FALSE</code></td>\n</tr>\n<tr class=\"even\">\n<td><code>!=</code></td>\n<td>Es diferente que</td>\n<td><code>5 != 3</code></td>\n<td><code>TRUE</code></td>\n</tr>\n</tbody>\n</table>"
    },
    {
      "metadata": {
        "trusted": true
      },
      "cell_type": "code",
      "source": "a <- 5 < 3\nb <- 4 > 2\nc <- 8==2\nd <- TRUE > FALSE\n\nprint(a)\nprint(b)\nprint(c)\nprint(d)",
      "execution_count": null,
      "outputs": []
    },
    {
      "metadata": {
        "trusted": true
      },
      "cell_type": "code",
      "source": "d <- c(1,2,3) > 2\nprint(d)",
      "execution_count": null,
      "outputs": []
    },
    {
      "metadata": {
        "trusted": true
      },
      "cell_type": "code",
      "source": "#tienen que ser de la misma dimensión, en este caso 3 (nota también se puede con múltiplos)\ne <- c(1,8,3)\nf <- c(4,5,6)\n\ne > f",
      "execution_count": null,
      "outputs": []
    },
    {
      "metadata": {},
      "cell_type": "markdown",
      "source": "en caso de cadenas de texto compara el orden alfabético. Por ejemplo"
    },
    {
      "metadata": {
        "trusted": true
      },
      "cell_type": "code",
      "source": "a <- \"Andrea\"\nb <- \"Carmen\"\n\na > b\na < b",
      "execution_count": null,
      "outputs": []
    },
    {
      "metadata": {
        "trusted": true
      },
      "cell_type": "code",
      "source": "d <- c(\"Alvarez\",\"Bustamante\",\"Delgado\") \nprint(d < \"Carrasco\")",
      "execution_count": null,
      "outputs": []
    },
    {
      "metadata": {
        "trusted": true
      },
      "cell_type": "code",
      "source": "\"aa\" != \"bb\"\n\"aa\" == \"bb\"\n\"Ccc\" == \"ccc\"\n\"ccc\" == \"ccc\"",
      "execution_count": null,
      "outputs": []
    },
    {
      "metadata": {},
      "cell_type": "markdown",
      "source": "## 3. Operadores lógicos\nLos operadores lógicos son usados para operaciones de álgebra Booleana, es decir, el operador tiene como dominio y rango los valores de TRUE o FALSE.\n\n<table>\n<thead>\n<tr>\n<th>Operador</th>\n<th>Simb matématico</th>\n<th>Ejemplo</th>\n<th>Resultado</th>\n</tr>\n</thead>\n<tbody>\n<tr class=\"odd\">\n<td><code>x | y</code></td>\n<td> $x \\vee y$ </td>\n<td><code>TRUE | FALSE</code></td>\n<td><code>TRUE</code></td>\n</tr>\n<tr class=\"even\">\n<td><code>x &amp; y</code></td>\n<td>$ x \\land y$</td>\n<td><code>TRUE &amp; FALSE</code></td>\n<td><code>FALSE</code></td>\n</tr>\n<tr class=\"odd\">\n<td><code>!x</code></td>\n<td>$\\sim x$</td>\n<td><code>!TRUE</code></td>\n<td><code>FALSE</code></td>\n</tbody>\n</table>\n\nLos resultados de los operadores lógicos se pueden mostar en la siguiente tabla de verdad\n\n<table class=\"tg\">\n<thead>\n  <tr>\n    <th class=\"tg-fymr\">p</th>\n    <th class=\"tg-fymr\">q</th>\n    <th class=\"tg-fymr\">p $\\land$ q</th>\n    <th class=\"tg-fymr\">p $\\vee$ q</th>\n    <th class=\"tg-fymr\">$\\sim$ p</th>\n  </tr>\n</thead>\n<tbody>\n  <tr>\n    <td class=\"tg-c3ow\">V</td>\n    <td class=\"tg-c3ow\">V</td>\n    <td class=\"tg-c3ow\">V</td>\n    <td class=\"tg-c3ow\">V</td>\n    <td class=\"tg-c3ow\">F</td>\n  </tr>\n  <tr>\n    <td class=\"tg-c3ow\">V</td>\n    <td class=\"tg-c3ow\">F</td>\n    <td class=\"tg-c3ow\">F</td>\n    <td class=\"tg-c3ow\">V</td>\n    <td class=\"tg-c3ow\">F</td>\n  </tr>\n  <tr>\n    <td class=\"tg-c3ow\">F</td>\n    <td class=\"tg-c3ow\">V</td>\n    <td class=\"tg-c3ow\">F</td>\n    <td class=\"tg-c3ow\">V</td>\n    <td class=\"tg-c3ow\">V</td>\n  </tr>\n  <tr>\n    <td class=\"tg-c3ow\">F</td>\n    <td class=\"tg-c3ow\">F</td>\n    <td class=\"tg-c3ow\">F</td>\n    <td class=\"tg-c3ow\">F</td>\n    <td class=\"tg-c3ow\">V</td>\n  </tr>\n</tbody>\n</table>\n\nDe donde observamos \n* |: solo devuelve FALSE si ambos datos son FALSE\n* &: solo devuelve TRUE si ambos datos son TRUE"
    },
    {
      "metadata": {
        "trusted": true
      },
      "cell_type": "code",
      "source": "a <- TRUE\nb <- FALSE\n\nprint(a & b) #and",
      "execution_count": null,
      "outputs": []
    },
    {
      "metadata": {
        "trusted": true
      },
      "cell_type": "code",
      "source": "c <- c(TRUE, FALSE , FALSE)\n\nprint(c | TRUE) #or ",
      "execution_count": null,
      "outputs": []
    },
    {
      "metadata": {
        "trusted": true
      },
      "cell_type": "code",
      "source": "h <- 5.15\ni <- 0    \n\nprint (h & TRUE)\nprint (i & TRUE)",
      "execution_count": null,
      "outputs": []
    },
    {
      "metadata": {},
      "cell_type": "markdown",
      "source": "## 4. Operadores de asignación\nEste es probablemente el operador más importante de todos, pues nos permite asignar datos a variables.\n\n<table>\n<thead>\n<tr>\n<th>Operador</th>\n<th>Operación</th>\n</tr>\n</thead>\n<tbody>\n<tr>\n<td><code>&lt;-</code></td>\n<td>Asigna un valor a una variable. La variable se encuentra a la izquierda y el valor a la derecha</td>\n</tr>\n<tr>\n<td><code>-></code></td>\n<td>Asigna un valor a una variable. La variable se encuentra a la derecha y el valor a la izquierda</td>\n</tr>\n<tr>\n<td><code>=</code></td>\n<td>Asigna un valor a una variable. La variable se encuentra a la izquierda y el valor a la derecha</td>\n</tr>\n <tr>\n<td><code>assign(\"nombre\", valor)</code></td>\n<td>Asigna un valor a una variable llamada \"nombre\"</td>\n</tr>\n    \n</tbody>\n</table>"
    },
    {
      "metadata": {},
      "cell_type": "markdown",
      "source": "Aunque podemos usar los 3 signos para una asignación, se acostumbra y se recomienda usar <- por ser característico de R y fácil de reconocer visualmente."
    },
    {
      "metadata": {
        "trusted": true
      },
      "cell_type": "code",
      "source": "aa <- 2\n2 -> bb\ncc = 2\nassign(\"dd\",7)\n\nprint(aa)\nprint(bb)\nprint(cc)\nprint(dd)",
      "execution_count": null,
      "outputs": []
    },
    {
      "metadata": {},
      "cell_type": "markdown",
      "source": "## 5. Orden de operaciones\n\nEn la tabla siguiente se presenta el orden en que ocurren las operaciones que hemos revisado en este capítulo.\n\n<table>\n<thead>\n<tr>\n<th>Orden</th>\n<th>Operadores</th>\n</tr>\n</thead>\n<tbody>\n<tr class=\"odd\">\n<td>1</td>\n<td><code>^</code></td>\n</tr>\n<tr class=\"even\">\n<td>2</td>\n<td><code>*</code> <code>/</code></td>\n</tr>\n<tr class=\"odd\">\n<td>3</td>\n<td><code>+</code> <code>-</code></td>\n</tr>\n<tr class=\"even\">\n<td>4</td>\n<td><code>&lt;</code> <code>&gt;</code> <code>&lt;=</code> <code>&gt;=</code> <code>==</code> <code>!=</code></td>\n</tr>\n<tr class=\"odd\">\n<td>5</td>\n<td><code>!</code></td>\n</tr>\n<tr class=\"even\">\n<td>6</td>\n<td><code>&amp;</code></td>\n</tr>\n<tr class=\"odd\">\n<td>7</td>\n<td><code>|</code></td>\n</tr>\n<tr class=\"even\">\n<td>8</td>\n<td><code>&lt;-</code></td>\n</tr>\n</tbody>\n</table>\n\nSi deseamos que una operación ocurra antes que otra, rompiendo este orden de evaluación, usamos paréntesis.\nEjem:\n$$\n5+4^2=21\n$$\n\n$$\n(5+4)^2=81\n$$\n"
    },
    {
      "metadata": {
        "trusted": true
      },
      "cell_type": "code",
      "source": "a <- -5^2\n\nprint(a)",
      "execution_count": null,
      "outputs": []
    },
    {
      "metadata": {
        "trusted": true
      },
      "cell_type": "code",
      "source": "b <- 5+2 > 3\nprint(b)",
      "execution_count": null,
      "outputs": []
    },
    {
      "metadata": {
        "trusted": true
      },
      "cell_type": "code",
      "source": "FALSE & FALSE | TRUE\nTRUE | FALSE & FALSE ",
      "execution_count": null,
      "outputs": []
    },
    {
      "metadata": {
        "trusted": true
      },
      "cell_type": "code",
      "source": "(FALSE & FALSE) | TRUE #uso innecesario de paréntesis\nFALSE & (FALSE | TRUE) #uso necesario de paréntesis",
      "execution_count": null,
      "outputs": []
    }
  ],
  "metadata": {
    "kernelspec": {
      "name": "r",
      "display_name": "R",
      "language": "R"
    },
    "language_info": {
      "mimetype": "text/x-r-source",
      "name": "R",
      "pygments_lexer": "r",
      "version": "3.5.3",
      "file_extension": ".r",
      "codemirror_mode": "r"
    }
  },
  "nbformat": 4,
  "nbformat_minor": 4
}